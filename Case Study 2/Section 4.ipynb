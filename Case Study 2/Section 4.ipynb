{
    "metadata": {
        "kernelspec": {
            "name": "SQL",
            "display_name": "SQL",
            "language": "sql"
        },
        "language_info": {
            "name": "sql",
            "version": ""
        }
    },
    "nbformat_minor": 2,
    "nbformat": 4,
    "cells": [
        {
            "cell_type": "markdown",
            "source": [
                "<span style=\"color: rgb(34, 34, 34); font-family: -system-ui, -apple-system, BlinkMacSystemFont, &quot;Segoe UI&quot;, Roboto, Helvetica, Arial, sans-serif, &quot;Apple Color Emoji&quot;, &quot;Segoe UI Emoji&quot;, &quot;Segoe UI Symbol&quot;; font-size: 20px; font-weight: bold; text-align: center;\">Pricing and Ratings</span>"
            ],
            "metadata": {
                "azdata_cell_guid": "cd71a4c4-51a6-441d-99e6-7cfb9a77ec49"
            }
        },
        {
            "cell_type": "markdown",
            "source": [
                "### **1. <span style=\"font-family: inherit; font-size: inherit; font-style: inherit; font-variant-caps: inherit; color: rgb(64, 64, 64); caret-color: rgb(64, 64, 64);\">If a Meat Lovers pizza costs $12 and Vegetarian costs $10 and there were no charges for changes - how much money has Pizza Runner made so far if there are no delivery fees?</span>**\n",
                "\n",
                "Ans - Used a case to alot $12 to meatlovers pizza and $10 to Vegetarian pizza  for all the delivered orders. At last used sum to calculate total sales."
            ],
            "metadata": {
                "azdata_cell_guid": "40dc9677-b303-40b3-b757-1c43bf51f81c"
            }
        },
        {
            "cell_type": "code",
            "source": [
                "with total_money_made as(\n",
                "select a.order_id,a.pizza_id,pizza_name, \n",
                "CASE\n",
                "WHEN pizza_name='Meatlovers' then 12\n",
                "WHEN pizza_name='Vegetarian' then 10\n",
                "end as cost\n",
                "from customer_orders a inner join runner_orders b on a.order_id = b.order_id \n",
                "inner join pizza_names c on a.pizza_id = c.pizza_id where cancellation not like '%Cancellation%'\n",
                ")\n",
                "select sum(cost) as money_made_in_dollars from total_money_made"
            ],
            "metadata": {
                "azdata_cell_guid": "c82fd123-668a-4ba9-9509-0a6523ef9016"
            },
            "outputs": [
                {
                    "output_type": "display_data",
                    "data": {
                        "text/html": "(1 row affected)"
                    },
                    "metadata": {}
                },
                {
                    "output_type": "display_data",
                    "data": {
                        "text/html": "Total execution time: 00:00:00.026"
                    },
                    "metadata": {}
                },
                {
                    "output_type": "execute_result",
                    "execution_count": 7,
                    "data": {
                        "application/vnd.dataresource+json": {
                            "schema": {
                                "fields": [
                                    {
                                        "name": "money_made_in_dollars"
                                    }
                                ]
                            },
                            "data": [
                                {
                                    "0": "138"
                                }
                            ]
                        },
                        "text/html": "<table><tr><th>money_made_in_dollars</th></tr><tr><td>138</td></tr></table>"
                    },
                    "metadata": {}
                }
            ],
            "execution_count": 7
        },
        {
            "cell_type": "markdown",
            "source": [
                "### **2. <span style=\"font-family: inherit; font-size: inherit; font-style: inherit; font-variant-caps: inherit; color: rgb(64, 64, 64); caret-color: rgb(64, 64, 64);\">What if there was an additional $1 charge for any pizza extras?</span>**\n",
                "\n",
                "- <span style=\"font-family: inherit; font-size: inherit; font-style: inherit; font-variant-caps: inherit; color: rgb(64, 64, 64); caret-color: rgb(64, 64, 64);\"><b>Add cheese is $1 extra</b></span>\n",
                "\n",
                "Ans -"
            ],
            "metadata": {
                "azdata_cell_guid": "98ad32a2-d5b0-416f-9818-26ef92f26819"
            }
        },
        {
            "cell_type": "code",
            "source": [
                "with sucessful_customer_orders as(\n",
                "select a.order_id,pizza_id,extras from customer_orders a inner join runner_orders b on a.order_id = b.order_id where cancellation not like '%Cancellation%'\n",
                "),\n",
                "not_null_extras as(\n",
                "select * from sucessful_customer_orders where extras <> ''\n",
                "),\n",
                "topping_cost as(\n",
                "select cast(trim(value) as int) as topping,\n",
                "case\n",
                "when cast(trim(value) as int) is not null then 1\n",
                "end as topping_cost\n",
                "from not_null_extras\n",
                "cross apply string_split(not_null_extras.extras, ',') where extras <> 'null'\n",
                ")\n",
                "select sum(topping_cost) from topping_cost"
            ],
            "metadata": {
                "azdata_cell_guid": "ffe09a20-43b5-45ca-8b40-d812f2b6b3ac"
            },
            "outputs": [
                {
                    "output_type": "display_data",
                    "data": {
                        "text/html": "(1 row affected)"
                    },
                    "metadata": {}
                },
                {
                    "output_type": "display_data",
                    "data": {
                        "text/html": "Total execution time: 00:00:00.036"
                    },
                    "metadata": {}
                },
                {
                    "output_type": "execute_result",
                    "execution_count": 12,
                    "data": {
                        "application/vnd.dataresource+json": {
                            "schema": {
                                "fields": [
                                    {
                                        "name": "(No column name)"
                                    }
                                ]
                            },
                            "data": [
                                {
                                    "0": "4"
                                }
                            ]
                        },
                        "text/html": "<table><tr><th>(No column name)</th></tr><tr><td>4</td></tr></table>"
                    },
                    "metadata": {}
                }
            ],
            "execution_count": 12
        },
        {
            "cell_type": "markdown",
            "source": [
                "### **3. <span style=\"font-family: inherit; font-size: inherit; font-style: inherit; font-variant-caps: inherit; color: rgb(64, 64, 64); caret-color: rgb(64, 64, 64);\">What if substitutes were allowed at no additional cost but any additional extras were charged at $1</span>**\n",
                "\n",
                "- <span style=\"font-family: inherit; font-size: inherit; font-style: inherit; font-variant-caps: inherit; color: rgb(64, 64, 64); caret-color: rgb(64, 64, 64);\"><b>Exclude Cheese and add Bacon is free</b></span>\n",
                "- <span style=\"font-family: inherit; font-size: inherit; font-style: inherit; font-variant-caps: inherit; color: rgb(64, 64, 64); caret-color: rgb(64, 64, 64);\"><b>Exclude Cheese but add bacon and beef costs $1 extra</b></span>"
            ],
            "metadata": {
                "azdata_cell_guid": "28f1a8a3-b2d7-4839-b2ee-a02e828959b3"
            }
        },
        {
            "cell_type": "code",
            "source": [
                "with sucessful_customer_orders as(\n",
                "select a.order_id,pizza_id,extras,exclusions from customer_orders a inner join runner_orders b on a.order_id = b.order_id where cancellation not like '%Cancellation%'\n",
                "),\n",
                "new_table as (\n",
                "select order_id,pizza_id,trim([value]) as segreggated_extras,exclusions from sucessful_customer_orders\n",
                "cross apply string_split(sucessful_customer_orders.extras,',')\n",
                "),\n",
                "new_table_1 as (\n",
                "select order_id,pizza_id,segreggated_extras,trim([value]) as seggregated_exclusions from new_table\n",
                "cross apply string_split(new_table.exclusions,',')\n",
                "),\n",
                "new_table_2 as(\n",
                "select order_id,pizza_id,\n",
                "case\n",
                "when segreggated_extras is null then 0\n",
                "when segreggated_extras = 'null' then 0\n",
                "when segreggated_extras='' then 0\n",
                "else cast(segreggated_extras as int)\n",
                "end as new_segreggated_extras,\n",
                "case\n",
                "when seggregated_exclusions is null then 0\n",
                "when seggregated_exclusions = 'null' then 0\n",
                "when seggregated_exclusions='' then 0\n",
                "else cast(seggregated_exclusions as int)\n",
                "end as new_seggregated_exclusions\n",
                "from new_table_1\n",
                "),\n",
                "new_table3 as (\n",
                "select order_id,pizza_id,\n",
                "case\n",
                "when new_segreggated_extras <>0 then 1\n",
                "else 0\n",
                "end as count_of_extras,\n",
                "case\n",
                "when new_seggregated_exclusions<>0 then 1\n",
                "else 0\n",
                "end as count_of_exclusions\n",
                "from new_table_2\n",
                ")\n",
                "select sum(count_of_extras-count_of_exclusions) from new_table3 where (count_of_extras-count_of_exclusions) > 0"
            ],
            "metadata": {
                "azdata_cell_guid": "e5797110-3853-48d3-8d4f-5018519408b4"
            },
            "outputs": [
                {
                    "output_type": "display_data",
                    "data": {
                        "text/html": "(1 row affected)"
                    },
                    "metadata": {}
                },
                {
                    "output_type": "display_data",
                    "data": {
                        "text/html": "Total execution time: 00:00:00.033"
                    },
                    "metadata": {}
                },
                {
                    "output_type": "execute_result",
                    "execution_count": 39,
                    "data": {
                        "application/vnd.dataresource+json": {
                            "schema": {
                                "fields": [
                                    {
                                        "name": "(No column name)"
                                    }
                                ]
                            },
                            "data": [
                                {
                                    "0": "2"
                                }
                            ]
                        },
                        "text/html": "<table><tr><th>(No column name)</th></tr><tr><td>2</td></tr></table>"
                    },
                    "metadata": {}
                }
            ],
            "execution_count": 39
        },
        {
            "cell_type": "markdown",
            "source": [
                "4. <span style=\"font-family: inherit; font-size: inherit; font-style: inherit; font-variant-caps: inherit; font-weight: inherit; color: rgb(64, 64, 64); caret-color: rgb(64, 64, 64);\">What if meat substitutes and vegetable substitutes were allowed but any change outside were charged at $2 and $1 respectively?</span>\n",
                "\n",
                "- <span style=\"font-family: inherit; font-size: inherit; font-style: inherit; font-variant-caps: inherit; font-weight: inherit; color: rgb(64, 64, 64); caret-color: rgb(64, 64, 64);\">Exclude Cheese and add Bacon is $2 extra</span>\n",
                "- <span style=\"font-family: inherit; font-size: inherit; font-style: inherit; font-variant-caps: inherit; font-weight: inherit; color: rgb(64, 64, 64); caret-color: rgb(64, 64, 64);\">Exclude Beef and add mushroom is $1 extra</span>\n",
                "- <span style=\"font-family: inherit; font-size: inherit; font-style: inherit; font-variant-caps: inherit; font-weight: inherit; color: rgb(64, 64, 64); caret-color: rgb(64, 64, 64);\">Exclude Beef and add Bacon is free</span>\n",
                "- <span style=\"font-family: inherit; font-size: inherit; font-style: inherit; font-variant-caps: inherit; font-weight: inherit; color: rgb(64, 64, 64); caret-color: rgb(64, 64, 64);\">Exclude Beef and Mushroom, and add Bacon and Cheese is free</span>"
            ],
            "metadata": {
                "azdata_cell_guid": "2fe968bd-2e16-4d08-838b-65b56f0a759c"
            }
        },
        {
            "cell_type": "code",
            "source": [
                "with topping_type as (\n",
                "select topping_id,topping_name,\n",
                "case \n",
                "when topping_id = 1 or topping_id =3 or topping_id =5 or topping_id =8 or topping_id =10 then 'Meat'\n",
                "else 'Vegetable'\n",
                "end as substitute\n",
                "from pizza_toppings\n",
                "),\n",
                "sucessful_customer_orders as(\n",
                "select a.order_id,pizza_id,extras,exclusions from customer_orders a inner join runner_orders b on a.order_id = b.order_id where cancellation not like '%Cancellation%'\n",
                "),\n",
                "new_table as (\n",
                "select order_id,pizza_id,trim([value]) as segreggated_extras,exclusions from sucessful_customer_orders\n",
                "cross apply string_split(sucessful_customer_orders.extras,',')\n",
                "),\n",
                "new_table_1 as (\n",
                "select order_id,pizza_id,segreggated_extras,trim([value]) as seggregated_exclusions from new_table\n",
                "cross apply string_split(new_table.exclusions,',')\n",
                "),\n",
                "new_table_2 as(\n",
                "select order_id,pizza_id,\n",
                "case\n",
                "when segreggated_extras is null then 0\n",
                "when segreggated_extras = 'null' then 0\n",
                "when segreggated_extras='' then 0\n",
                "else cast(segreggated_extras as int)\n",
                "end as new_segreggated_extras,\n",
                "case\n",
                "when seggregated_exclusions is null then 0\n",
                "when seggregated_exclusions = 'null' then 0\n",
                "when seggregated_exclusions='' then 0\n",
                "else cast(seggregated_exclusions as int)\n",
                "end as new_seggregated_exclusions\n",
                "from new_table_1\n",
                "),\n",
                "new_table3 as(\n",
                "select order_id,pizza_id,new_segreggated_extras,b.substitute as extras_substitute,new_seggregated_exclusions,c.substitute as exclusions_substitute\n",
                "from new_table_2 a left join topping_type b \n",
                "on a.new_segreggated_extras = b.topping_id left join topping_type c on a.new_seggregated_exclusions = c.topping_id\n",
                "),\n",
                "row_number_count as (\n",
                "Select *,\n",
                "ROW_NUMBER() OVER(Partition by order_id,pizza_id,new_segreggated_extras order by order_id) as dense_rank\n",
                "FROM new_table3\n",
                ")\n",
                "select * from row_number_count where dense_rank = 1"
            ],
            "metadata": {
                "azdata_cell_guid": "97c2f2f4-1681-41be-b42a-56a912302d28",
                "tags": []
            },
            "outputs": [
                {
                    "output_type": "display_data",
                    "data": {
                        "text/html": "(11 rows affected)"
                    },
                    "metadata": {}
                },
                {
                    "output_type": "display_data",
                    "data": {
                        "text/html": "Total execution time: 00:00:00.135"
                    },
                    "metadata": {}
                },
                {
                    "output_type": "execute_result",
                    "execution_count": 52,
                    "data": {
                        "application/vnd.dataresource+json": {
                            "schema": {
                                "fields": [
                                    {
                                        "name": "order_id"
                                    },
                                    {
                                        "name": "pizza_id"
                                    },
                                    {
                                        "name": "new_segreggated_extras"
                                    },
                                    {
                                        "name": "extras_substitute"
                                    },
                                    {
                                        "name": "new_seggregated_exclusions"
                                    },
                                    {
                                        "name": "exclusions_substitute"
                                    },
                                    {
                                        "name": "dense_rank"
                                    }
                                ]
                            },
                            "data": [
                                {
                                    "0": "4",
                                    "1": "1",
                                    "2": "0",
                                    "3": "NULL",
                                    "4": "4",
                                    "5": "Vegetable",
                                    "6": "1"
                                },
                                {
                                    "0": "10",
                                    "1": "1",
                                    "2": "1",
                                    "3": "Meat",
                                    "4": "2",
                                    "5": "Vegetable",
                                    "6": "1"
                                },
                                {
                                    "0": "10",
                                    "1": "1",
                                    "2": "4",
                                    "3": "Vegetable",
                                    "4": "6",
                                    "5": "Vegetable",
                                    "6": "1"
                                },
                                {
                                    "0": "1",
                                    "1": "1",
                                    "2": "0",
                                    "3": "NULL",
                                    "4": "0",
                                    "5": "NULL",
                                    "6": "1"
                                },
                                {
                                    "0": "2",
                                    "1": "1",
                                    "2": "0",
                                    "3": "NULL",
                                    "4": "0",
                                    "5": "NULL",
                                    "6": "1"
                                },
                                {
                                    "0": "3",
                                    "1": "1",
                                    "2": "0",
                                    "3": "NULL",
                                    "4": "0",
                                    "5": "NULL",
                                    "6": "1"
                                },
                                {
                                    "0": "4",
                                    "1": "2",
                                    "2": "0",
                                    "3": "NULL",
                                    "4": "4",
                                    "5": "Vegetable",
                                    "6": "1"
                                },
                                {
                                    "0": "5",
                                    "1": "1",
                                    "2": "1",
                                    "3": "Meat",
                                    "4": "0",
                                    "5": "NULL",
                                    "6": "1"
                                },
                                {
                                    "0": "7",
                                    "1": "2",
                                    "2": "1",
                                    "3": "Meat",
                                    "4": "0",
                                    "5": "NULL",
                                    "6": "1"
                                },
                                {
                                    "0": "8",
                                    "1": "1",
                                    "2": "0",
                                    "3": "NULL",
                                    "4": "0",
                                    "5": "NULL",
                                    "6": "1"
                                },
                                {
                                    "0": "10",
                                    "1": "1",
                                    "2": "0",
                                    "3": "NULL",
                                    "4": "0",
                                    "5": "NULL",
                                    "6": "1"
                                }
                            ]
                        },
                        "text/html": "<table><tr><th>order_id</th><th>pizza_id</th><th>new_segreggated_extras</th><th>extras_substitute</th><th>new_seggregated_exclusions</th><th>exclusions_substitute</th><th>dense_rank</th></tr><tr><td>4</td><td>1</td><td>0</td><td>NULL</td><td>4</td><td>Vegetable</td><td>1</td></tr><tr><td>10</td><td>1</td><td>1</td><td>Meat</td><td>2</td><td>Vegetable</td><td>1</td></tr><tr><td>10</td><td>1</td><td>4</td><td>Vegetable</td><td>6</td><td>Vegetable</td><td>1</td></tr><tr><td>1</td><td>1</td><td>0</td><td>NULL</td><td>0</td><td>NULL</td><td>1</td></tr><tr><td>2</td><td>1</td><td>0</td><td>NULL</td><td>0</td><td>NULL</td><td>1</td></tr><tr><td>3</td><td>1</td><td>0</td><td>NULL</td><td>0</td><td>NULL</td><td>1</td></tr><tr><td>4</td><td>2</td><td>0</td><td>NULL</td><td>4</td><td>Vegetable</td><td>1</td></tr><tr><td>5</td><td>1</td><td>1</td><td>Meat</td><td>0</td><td>NULL</td><td>1</td></tr><tr><td>7</td><td>2</td><td>1</td><td>Meat</td><td>0</td><td>NULL</td><td>1</td></tr><tr><td>8</td><td>1</td><td>0</td><td>NULL</td><td>0</td><td>NULL</td><td>1</td></tr><tr><td>10</td><td>1</td><td>0</td><td>NULL</td><td>0</td><td>NULL</td><td>1</td></tr></table>"
                    },
                    "metadata": {}
                }
            ],
            "execution_count": 52
        },
        {
            "cell_type": "markdown",
            "source": [
                "### **5. <span style=\"font-family: inherit; font-size: inherit; font-style: inherit; font-variant-caps: inherit; color: rgb(64, 64, 64); caret-color: rgb(64, 64, 64);\">The Pizza Runner team now wants to add an additional ratings system that allows customers to rate their runner, how would you design an additional table for this new dataset - generate a schema for this new table and insert your own data for ratings for each successful customer order between 1 to 5.</span>**"
            ],
            "metadata": {
                "azdata_cell_guid": "9ca7bcdb-5de5-49a9-a513-fabd8926ace3"
            }
        },
        {
            "cell_type": "code",
            "source": [
                "DROP TABLE IF EXISTS ratings_system;\n",
                "CREATE TABLE ratings_system (\n",
                "  \"order_id\" INTEGER,\n",
                "  \"runner_id\" INTEGER,\n",
                "  \"rating\" INTEGER\n",
                ");\n",
                "\n",
                "INSERT INTO ratings_system\n",
                "  (\"order_id\",\"runner_id\", \"rating\")\n",
                "VALUES\n",
                "  (1,1,4),\n",
                "  (2,1,3),\n",
                "  (3,1,4),\n",
                "  (4,2,5),\n",
                "  (5,3,3),\n",
                "  (7,2,2),\n",
                "  (8,2,4),\n",
                "  (10,1,5);"
            ],
            "metadata": {
                "azdata_cell_guid": "8f901e8d-5776-41e1-bceb-424316faba93",
                "tags": []
            },
            "outputs": [
                {
                    "output_type": "display_data",
                    "data": {
                        "text/html": "(8 rows affected)"
                    },
                    "metadata": {}
                },
                {
                    "output_type": "display_data",
                    "data": {
                        "text/html": "Total execution time: 00:00:00.132"
                    },
                    "metadata": {}
                }
            ],
            "execution_count": 1
        },
        {
            "cell_type": "markdown",
            "source": [
                "### **6. <span style=\"font-family: inherit; font-size: inherit; font-style: inherit; font-variant-caps: inherit; color: rgb(64, 64, 64); caret-color: rgb(64, 64, 64);\">Using your newly generated table - can you join all of the information together to form a table which has the following information for successful deliveries?</span>**\n",
                "\n",
                "- <span style=\"background-color: rgb(250, 250, 250); color: rgb(255, 85, 74); font-family: &quot;Bitstream Vera Sans Mono&quot;, Courier, monospace; font-size: 16px; font-style: inherit; font-variant-caps: inherit; caret-color: rgb(64, 64, 64);\"><b>customer_id</b></span>\n",
                "\n",
                "- <span style=\"background-color: rgb(250, 250, 250); color: rgb(255, 85, 74); font-family: &quot;Bitstream Vera Sans Mono&quot;, Courier, monospace; font-size: 16px; font-style: inherit; font-variant-caps: inherit; caret-color: rgb(64, 64, 64);\"><b>order_id</b></span>\n",
                "\n",
                "- <span style=\"background-color: rgb(250, 250, 250); color: rgb(255, 85, 74); font-family: &quot;Bitstream Vera Sans Mono&quot;, Courier, monospace; font-size: 16px; font-style: inherit; font-variant-caps: inherit; caret-color: rgb(64, 64, 64);\"><b>runner_id</b></span>\n",
                "\n",
                "- <span style=\"background-color: rgb(250, 250, 250); color: rgb(255, 85, 74); font-family: &quot;Bitstream Vera Sans Mono&quot;, Courier, monospace; font-size: 16px; font-style: inherit; font-variant-caps: inherit; caret-color: rgb(64, 64, 64);\"><b>rating</b></span>\n",
                "\n",
                "- <span style=\"background-color: rgb(250, 250, 250); color: rgb(255, 85, 74); font-family: &quot;Bitstream Vera Sans Mono&quot;, Courier, monospace; font-size: 16px; font-style: inherit; font-variant-caps: inherit; caret-color: rgb(64, 64, 64);\"><b>order_time</b></span>\n",
                "\n",
                "- <span style=\"background-color: rgb(250, 250, 250); color: rgb(255, 85, 74); font-family: &quot;Bitstream Vera Sans Mono&quot;, Courier, monospace; font-size: 16px; font-style: inherit; font-variant-caps: inherit; caret-color: rgb(64, 64, 64);\"><b>pickup_time</b></span>\n",
                "\n",
                "- <span style=\"font-family: inherit; font-size: inherit; font-style: inherit; font-variant-caps: inherit; color: rgb(64, 64, 64); caret-color: rgb(64, 64, 64);\"><b>Time between order and pickup</b></span>\n",
                "\n",
                "- <span style=\"font-family: inherit; font-size: inherit; font-style: inherit; font-variant-caps: inherit; color: rgb(64, 64, 64); caret-color: rgb(64, 64, 64);\"><b>Delivery duration</b></span>\n",
                "\n",
                "- <span style=\"font-family: inherit; font-size: inherit; font-style: inherit; font-variant-caps: inherit; color: rgb(64, 64, 64); caret-color: rgb(64, 64, 64);\"><b>Average speed</b></span>\n",
                "\n",
                "- <span style=\"font-family: inherit; font-size: inherit; font-style: inherit; font-variant-caps: inherit; color: rgb(64, 64, 64); caret-color: rgb(64, 64, 64);\"><b>Total number of pizzas</b></span>"
            ],
            "metadata": {
                "azdata_cell_guid": "aea94a0b-806c-4021-b132-a39f8b15436b"
            }
        },
        {
            "cell_type": "code",
            "source": [
                "select a.customer_id,a.order_id,b.runner_id,c.rating,a.order_time,b.pickup_time,cast((b.pickup_time-a.order_time)as time),b.duration from customer_orders a inner join runner_orders b on a.order_id = b.order_id inner join ratings_system c on a.order_id = c.order_id where b.cancellation not like '%Cancellation%'"
            ],
            "metadata": {
                "azdata_cell_guid": "04df26e9-c2e7-4c54-be5d-12a1d26fbc33"
            },
            "outputs": [
                {
                    "output_type": "display_data",
                    "data": {
                        "text/html": "(12 rows affected)"
                    },
                    "metadata": {}
                },
                {
                    "output_type": "display_data",
                    "data": {
                        "text/html": "Total execution time: 00:00:00.076"
                    },
                    "metadata": {}
                },
                {
                    "output_type": "execute_result",
                    "metadata": {},
                    "execution_count": 4,
                    "data": {
                        "application/vnd.dataresource+json": {
                            "schema": {
                                "fields": [
                                    {
                                        "name": "customer_id"
                                    },
                                    {
                                        "name": "order_id"
                                    },
                                    {
                                        "name": "runner_id"
                                    },
                                    {
                                        "name": "rating"
                                    },
                                    {
                                        "name": "order_time"
                                    },
                                    {
                                        "name": "pickup_time"
                                    },
                                    {
                                        "name": "(No column name)"
                                    },
                                    {
                                        "name": "duration"
                                    }
                                ]
                            },
                            "data": [
                                {
                                    "0": "101",
                                    "1": "1",
                                    "2": "1",
                                    "3": "4",
                                    "4": "2021-01-01 18:05:02.000",
                                    "5": "2021-01-01 18:15:34.000",
                                    "6": "00:10:32",
                                    "7": "32 minutes"
                                },
                                {
                                    "0": "101",
                                    "1": "2",
                                    "2": "1",
                                    "3": "3",
                                    "4": "2021-01-01 19:00:52.000",
                                    "5": "2021-01-01 19:10:54.000",
                                    "6": "00:10:02",
                                    "7": "27 minutes"
                                },
                                {
                                    "0": "102",
                                    "1": "3",
                                    "2": "1",
                                    "3": "4",
                                    "4": "2021-01-02 23:51:23.000",
                                    "5": "2021-01-03 00:12:37.000",
                                    "6": "00:21:14",
                                    "7": "20 mins"
                                },
                                {
                                    "0": "102",
                                    "1": "3",
                                    "2": "1",
                                    "3": "4",
                                    "4": "2021-01-02 23:51:23.000",
                                    "5": "2021-01-03 00:12:37.000",
                                    "6": "00:21:14",
                                    "7": "20 mins"
                                },
                                {
                                    "0": "103",
                                    "1": "4",
                                    "2": "2",
                                    "3": "5",
                                    "4": "2021-01-04 13:23:46.000",
                                    "5": "2021-01-04 13:53:03.000",
                                    "6": "00:29:17",
                                    "7": "40"
                                },
                                {
                                    "0": "103",
                                    "1": "4",
                                    "2": "2",
                                    "3": "5",
                                    "4": "2021-01-04 13:23:46.000",
                                    "5": "2021-01-04 13:53:03.000",
                                    "6": "00:29:17",
                                    "7": "40"
                                },
                                {
                                    "0": "103",
                                    "1": "4",
                                    "2": "2",
                                    "3": "5",
                                    "4": "2021-01-04 13:23:46.000",
                                    "5": "2021-01-04 13:53:03.000",
                                    "6": "00:29:17",
                                    "7": "40"
                                },
                                {
                                    "0": "104",
                                    "1": "5",
                                    "2": "3",
                                    "3": "3",
                                    "4": "2021-01-08 21:00:29.000",
                                    "5": "2021-01-08 21:10:57.000",
                                    "6": "00:10:28",
                                    "7": "15"
                                },
                                {
                                    "0": "105",
                                    "1": "7",
                                    "2": "2",
                                    "3": "2",
                                    "4": "2021-01-08 21:20:29.000",
                                    "5": "2021-01-08 21:30:45.000",
                                    "6": "00:10:16",
                                    "7": "25mins"
                                },
                                {
                                    "0": "102",
                                    "1": "8",
                                    "2": "2",
                                    "3": "4",
                                    "4": "2021-01-09 23:54:33.000",
                                    "5": "2021-01-10 00:15:02.000",
                                    "6": "00:20:29",
                                    "7": "15 minute"
                                },
                                {
                                    "0": "104",
                                    "1": "10",
                                    "2": "1",
                                    "3": "5",
                                    "4": "2021-01-11 18:34:49.000",
                                    "5": "2021-01-11 18:50:20.000",
                                    "6": "00:15:31",
                                    "7": "10minutes"
                                },
                                {
                                    "0": "104",
                                    "1": "10",
                                    "2": "1",
                                    "3": "5",
                                    "4": "2021-01-11 18:34:49.000",
                                    "5": "2021-01-11 18:50:20.000",
                                    "6": "00:15:31",
                                    "7": "10minutes"
                                }
                            ]
                        },
                        "text/html": [
                            "<table>",
                            "<tr><th>customer_id</th><th>order_id</th><th>runner_id</th><th>rating</th><th>order_time</th><th>pickup_time</th><th>(No column name)</th><th>duration</th></tr>",
                            "<tr><td>101</td><td>1</td><td>1</td><td>4</td><td>2021-01-01 18:05:02.000</td><td>2021-01-01 18:15:34.000</td><td>00:10:32</td><td>32 minutes</td></tr>",
                            "<tr><td>101</td><td>2</td><td>1</td><td>3</td><td>2021-01-01 19:00:52.000</td><td>2021-01-01 19:10:54.000</td><td>00:10:02</td><td>27 minutes</td></tr>",
                            "<tr><td>102</td><td>3</td><td>1</td><td>4</td><td>2021-01-02 23:51:23.000</td><td>2021-01-03 00:12:37.000</td><td>00:21:14</td><td>20 mins</td></tr>",
                            "<tr><td>102</td><td>3</td><td>1</td><td>4</td><td>2021-01-02 23:51:23.000</td><td>2021-01-03 00:12:37.000</td><td>00:21:14</td><td>20 mins</td></tr>",
                            "<tr><td>103</td><td>4</td><td>2</td><td>5</td><td>2021-01-04 13:23:46.000</td><td>2021-01-04 13:53:03.000</td><td>00:29:17</td><td>40</td></tr>",
                            "<tr><td>103</td><td>4</td><td>2</td><td>5</td><td>2021-01-04 13:23:46.000</td><td>2021-01-04 13:53:03.000</td><td>00:29:17</td><td>40</td></tr>",
                            "<tr><td>103</td><td>4</td><td>2</td><td>5</td><td>2021-01-04 13:23:46.000</td><td>2021-01-04 13:53:03.000</td><td>00:29:17</td><td>40</td></tr>",
                            "<tr><td>104</td><td>5</td><td>3</td><td>3</td><td>2021-01-08 21:00:29.000</td><td>2021-01-08 21:10:57.000</td><td>00:10:28</td><td>15</td></tr>",
                            "<tr><td>105</td><td>7</td><td>2</td><td>2</td><td>2021-01-08 21:20:29.000</td><td>2021-01-08 21:30:45.000</td><td>00:10:16</td><td>25mins</td></tr>",
                            "<tr><td>102</td><td>8</td><td>2</td><td>4</td><td>2021-01-09 23:54:33.000</td><td>2021-01-10 00:15:02.000</td><td>00:20:29</td><td>15 minute</td></tr>",
                            "<tr><td>104</td><td>10</td><td>1</td><td>5</td><td>2021-01-11 18:34:49.000</td><td>2021-01-11 18:50:20.000</td><td>00:15:31</td><td>10minutes</td></tr>",
                            "<tr><td>104</td><td>10</td><td>1</td><td>5</td><td>2021-01-11 18:34:49.000</td><td>2021-01-11 18:50:20.000</td><td>00:15:31</td><td>10minutes</td></tr>",
                            "</table>"
                        ]
                    }
                }
            ],
            "execution_count": 4
        },
        {
            "cell_type": "markdown",
            "source": [
                "### **7. <span style=\"font-family: inherit; font-size: inherit; font-style: inherit; font-variant-caps: inherit; color: rgb(64, 64, 64); caret-color: rgb(64, 64, 64);\">If a Meat Lovers pizza was $12 and Vegetarian $10 fixed prices with no cost for extras and each runner is paid $0.30 per kilometre traveled - how much money does Pizza Runner have left over after these deliveries?</span>**"
            ],
            "metadata": {
                "azdata_cell_guid": "bc470029-6ba8-4da3-9bac-59a1f7db0b4d"
            }
        },
        {
            "cell_type": "code",
            "source": [
                "select sum(dbo.udf_GetNumeric(distance)*.30) from runner_orders where cancellation not like '%Cancellation%'"
            ],
            "metadata": {
                "azdata_cell_guid": "f39bf4a6-44f0-4885-8cdf-5b5eb3e0947d"
            },
            "outputs": [
                {
                    "output_type": "display_data",
                    "data": {
                        "text/html": "(1 row affected)"
                    },
                    "metadata": {}
                },
                {
                    "output_type": "display_data",
                    "data": {
                        "text/html": "Total execution time: 00:00:00.029"
                    },
                    "metadata": {}
                },
                {
                    "output_type": "execute_result",
                    "metadata": {},
                    "execution_count": 9,
                    "data": {
                        "application/vnd.dataresource+json": {
                            "schema": {
                                "fields": [
                                    {
                                        "name": "(No column name)"
                                    }
                                ]
                            },
                            "data": [
                                {
                                    "0": "43.56"
                                }
                            ]
                        },
                        "text/html": [
                            "<table>",
                            "<tr><th>(No column name)</th></tr>",
                            "<tr><td>43.56</td></tr>",
                            "</table>"
                        ]
                    }
                }
            ],
            "execution_count": 9
        },
        {
            "cell_type": "markdown",
            "source": [
                "### **8. <span style=\"font-family: inherit; font-size: inherit; font-style: inherit; font-variant-caps: inherit; color: rgb(64, 64, 64); caret-color: rgb(64, 64, 64);\">If 1 unit of each ingredient costs $0.50 - how much net revenue will Pizza Runner make if the costs from question 30 are used?</span>**"
            ],
            "metadata": {
                "azdata_cell_guid": "3f7ded17-05a2-4497-a878-edfff049f4d6"
            }
        },
        {
            "cell_type": "code",
            "source": [
                "with newtable1 as(\n",
                "select pizza_id,count(trim(value)) as topping_count from pizza_recipes\n",
                "cross apply string_split(toppings, ',')\n",
                "group by pizza_id\n",
                ")\n",
                "select sum(c.topping_count)*.50 from customer_orders a inner join runner_orders b on a.order_id = b.order_id inner join newtable1 c on a.pizza_id = c.pizza_id where cancellation not like '%Cancellation%'"
            ],
            "metadata": {
                "azdata_cell_guid": "c416a3b4-902d-41d6-a3da-b5e373bf46d3"
            },
            "outputs": [
                {
                    "output_type": "display_data",
                    "data": {
                        "text/html": "(1 row affected)"
                    },
                    "metadata": {}
                },
                {
                    "output_type": "display_data",
                    "data": {
                        "text/html": "Total execution time: 00:00:00.052"
                    },
                    "metadata": {}
                },
                {
                    "output_type": "execute_result",
                    "metadata": {},
                    "execution_count": 18,
                    "data": {
                        "application/vnd.dataresource+json": {
                            "schema": {
                                "fields": [
                                    {
                                        "name": "(No column name)"
                                    }
                                ]
                            },
                            "data": [
                                {
                                    "0": "45.00"
                                }
                            ]
                        },
                        "text/html": [
                            "<table>",
                            "<tr><th>(No column name)</th></tr>",
                            "<tr><td>45.00</td></tr>",
                            "</table>"
                        ]
                    }
                }
            ],
            "execution_count": 18
        },
        {
            "cell_type": "markdown",
            "source": [
                "Total Revenue = 138 - 43.56 - 45\n",
                "\n",
                " <span style=\"background-color: rgba(127, 127, 127, 0.1); font-family: -apple-system, BlinkMacSystemFont, sans-serif;\">=$49.44</span>"
            ],
            "metadata": {
                "azdata_cell_guid": "ab407e8d-8f73-4e01-84e8-b9353ac350f3"
            }
        }
    ]
}