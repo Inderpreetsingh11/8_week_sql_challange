{
    "metadata": {
        "kernelspec": {
            "name": "SQL",
            "display_name": "SQL",
            "language": "sql"
        },
        "language_info": {
            "name": "sql",
            "version": ""
        }
    },
    "nbformat_minor": 2,
    "nbformat": 4,
    "cells": [
        {
            "cell_type": "markdown",
            "source": [
                "## <span style=\"color: rgb(34, 34, 34); font-family: -system-ui, -apple-system, BlinkMacSystemFont, &quot;Segoe UI&quot;, Roboto, Helvetica, Arial, sans-serif, &quot;Apple Color Emoji&quot;, &quot;Segoe UI Emoji&quot;, &quot;Segoe UI Symbol&quot;; font-size: 20px; font-weight: bold; text-align: center;\">Ingredient Optimisation</span>"
            ],
            "metadata": {
                "azdata_cell_guid": "f8f8a40a-df96-4665-8bce-c98a82caa8ae"
            }
        },
        {
            "cell_type": "markdown",
            "source": [
                "### **1. <span style=\"font-family: inherit; font-size: inherit; font-style: inherit; font-variant-caps: inherit; color: rgb(64, 64, 64); caret-color: rgb(64, 64, 64);\">What are the standard ingredients for each pizza?</span>**\n",
                "\n",
                "<span style=\"font-family: inherit; font-size: inherit; font-style: inherit; font-variant-caps: inherit; color: rgb(64, 64, 64); caret-color: rgb(64, 64, 64);\">Ans - The challenge in this question is that toppings for each pizza are stored like (</span>1, 2, 3, 4, 5, 6, 8, 10<span style=\"color: rgb(64, 64, 64); font-family: inherit; font-size: inherit; font-style: inherit; font-variant-caps: inherit; caret-color: rgb(64, 64, 64);\">). We need to seggregate it in order to use it. So for that I have used <b>STRING_SPLIT() clause </b>which breaks the given column into different rows based on the separator.&nbsp;<br>Then I trimmed it result as it had leading and trailing spaces. Casted it to int so that it can be used in conjuction with other tables.&nbsp;<br>(<span style=\"background-color: yellow;\">Note :-</span> Compatibility(version) of sql should be equal to or greater than&nbsp;</span> <span style=\"font-size: inherit; font-family: inherit; color: rgb(64, 64, 64); font-style: inherit; font-variant-caps: inherit; caret-color: rgb(64, 64, 64);\">130.)</span>"
            ],
            "metadata": {
                "azdata_cell_guid": "86dcf62b-b5b5-4620-8a6e-e79d4dd9e0b6"
            }
        },
        {
            "cell_type": "code",
            "source": [
                "with pizza_toppings_seggregated as(\n",
                "select cast(trim(value) as int) as topping,count(cast(trim(value) as int)) as topping_count\n",
                "from pizza_recipes\n",
                "cross apply string_split(pizza_recipes.toppings, ',') \n",
                "GROUP BY cast(trim(value) as int)\n",
                ")\n",
                "select topping_name from pizza_toppings a inner join pizza_toppings_seggregated b on a.topping_id = b.topping where topping_count > 1"
            ],
            "metadata": {
                "azdata_cell_guid": "33b2e9f3-c631-4f3d-8ea3-2449ebd717a1"
            },
            "outputs": [
                {
                    "output_type": "display_data",
                    "data": {
                        "text/html": "(2 rows affected)"
                    },
                    "metadata": {}
                },
                {
                    "output_type": "display_data",
                    "data": {
                        "text/html": "Total execution time: 00:00:00.020"
                    },
                    "metadata": {}
                },
                {
                    "output_type": "execute_result",
                    "execution_count": 1,
                    "data": {
                        "application/vnd.dataresource+json": {
                            "schema": {
                                "fields": [
                                    {
                                        "name": "topping_name"
                                    }
                                ]
                            },
                            "data": [
                                {
                                    "0": "Cheese"
                                },
                                {
                                    "0": "Mushrooms"
                                }
                            ]
                        },
                        "text/html": "<table><tr><th>topping_name</th></tr><tr><td>Cheese</td></tr><tr><td>Mushrooms</td></tr></table>"
                    },
                    "metadata": {}
                }
            ],
            "execution_count": 1
        },
        {
            "cell_type": "markdown",
            "source": [
                "Things learnt - \n",
                "\n",
                "- STRING\\_SPLIT()"
            ],
            "metadata": {
                "azdata_cell_guid": "5b43f123-ff9d-4108-810b-e88bbc83b3ce"
            }
        },
        {
            "cell_type": "markdown",
            "source": [
                "### **2. <span style=\"font-family: inherit; font-size: inherit; font-style: inherit; font-variant-caps: inherit; color: rgb(64, 64, 64); caret-color: rgb(64, 64, 64);\">What was the most commonly added extra?</span>**\n",
                "\n",
                "<span style=\"font-family: inherit; font-size: inherit; font-style: inherit; font-variant-caps: inherit; color: rgb(64, 64, 64); caret-color: rgb(64, 64, 64);\">Ans - Applied the same concept of STRING_SPLIT() used above here. Selected the non null and non empty values and passed the result as an subquery to pizza_toppings table to find the topping name.</span>"
            ],
            "metadata": {
                "azdata_cell_guid": "b57bccc5-3c82-46b6-a403-99bc88f42093"
            }
        },
        {
            "cell_type": "code",
            "source": [
                "with not_null_customer_orders as(\n",
                "select * from customer_orders where extras <> ''\n",
                ")\n",
                "select * from pizza_toppings where topping_id = (select top 1 cast(trim(value) as int) from not_null_customer_orders \n",
                "cross apply string_split(not_null_customer_orders.extras, ',') where extras <> 'null' group by cast(trim(value) as int) order by count(cast(trim(value) as int)) desc)"
            ],
            "metadata": {
                "azdata_cell_guid": "0a10e71e-b05a-4d26-8248-e23cf771c175"
            },
            "outputs": [
                {
                    "output_type": "display_data",
                    "data": {
                        "text/html": "(1 row affected)"
                    },
                    "metadata": {}
                },
                {
                    "output_type": "display_data",
                    "data": {
                        "text/html": "Total execution time: 00:00:00.022"
                    },
                    "metadata": {}
                },
                {
                    "output_type": "execute_result",
                    "execution_count": 6,
                    "data": {
                        "application/vnd.dataresource+json": {
                            "schema": {
                                "fields": [
                                    {
                                        "name": "topping_id"
                                    },
                                    {
                                        "name": "topping_name"
                                    }
                                ]
                            },
                            "data": [
                                {
                                    "0": "1",
                                    "1": "Bacon"
                                }
                            ]
                        },
                        "text/html": "<table><tr><th>topping_id</th><th>topping_name</th></tr><tr><td>1</td><td>Bacon</td></tr></table>"
                    },
                    "metadata": {}
                }
            ],
            "execution_count": 6
        },
        {
            "cell_type": "markdown",
            "source": [
                "### **3. <span style=\"font-family: inherit; font-size: inherit; font-style: inherit; font-variant-caps: inherit; color: rgb(64, 64, 64); caret-color: rgb(64, 64, 64);\">What was the most common exclusion?</span>**\n",
                "\n",
                "<span style=\"font-family: inherit; font-size: inherit; font-style: inherit; font-variant-caps: inherit; color: rgb(64, 64, 64); caret-color: rgb(64, 64, 64);\">Ans - Similar to above question. Just changed extras to exclusions.&nbsp;</span>"
            ],
            "metadata": {
                "azdata_cell_guid": "39897844-2702-45dc-994a-1885b33a4013"
            }
        },
        {
            "cell_type": "code",
            "source": [
                "with not_null_customer_orders as(\n",
                "select * from customer_orders where exclusions <> ''\n",
                ")\n",
                "select * from pizza_toppings where topping_id = (select top 1 cast(trim(value) as int) from not_null_customer_orders \n",
                "cross apply string_split(not_null_customer_orders.exclusions, ',') where exclusions <> 'null' group by cast(trim(value) as int) order by count(cast(trim(value) as int)) desc)"
            ],
            "metadata": {
                "azdata_cell_guid": "bee8e054-263c-410c-8b5c-c36efc1a659e"
            },
            "outputs": [
                {
                    "output_type": "display_data",
                    "data": {
                        "text/html": "(1 row affected)"
                    },
                    "metadata": {}
                },
                {
                    "output_type": "display_data",
                    "data": {
                        "text/html": "Total execution time: 00:00:00.040"
                    },
                    "metadata": {}
                },
                {
                    "output_type": "execute_result",
                    "execution_count": 5,
                    "data": {
                        "application/vnd.dataresource+json": {
                            "schema": {
                                "fields": [
                                    {
                                        "name": "topping_id"
                                    },
                                    {
                                        "name": "topping_name"
                                    }
                                ]
                            },
                            "data": [
                                {
                                    "0": "4",
                                    "1": "Cheese"
                                }
                            ]
                        },
                        "text/html": "<table><tr><th>topping_id</th><th>topping_name</th></tr><tr><td>4</td><td>Cheese</td></tr></table>"
                    },
                    "metadata": {}
                }
            ],
            "execution_count": 5
        },
        {
            "cell_type": "markdown",
            "source": [
                "### **4. <span style=\"font-family: inherit; font-size: inherit; font-style: inherit; font-variant-caps: inherit; color: rgb(64, 64, 64); caret-color: rgb(64, 64, 64);\">Generate an order item for each record in the</span> `customers_orders` <span style=\"font-family: inherit; font-size: inherit; font-style: inherit; font-variant-caps: inherit; color: rgb(64, 64, 64); caret-color: rgb(64, 64, 64);\">table in the format of one of the following:</span>**\n",
                "\n",
                "1. - `Meat Lovers`\n",
                "    - `Meat Lovers - Exclude Beef`\n",
                "    - `Meat Lovers - Extra Bacon`\n",
                "    - `Meat Lovers - Exclude Cheese, Bacon - Extra Mushroom, Peppers`"
            ],
            "metadata": {
                "azdata_cell_guid": "e2da6ca8-92e7-40f0-902c-4058e1eefcb1"
            }
        },
        {
            "cell_type": "code",
            "source": [
                ""
            ],
            "metadata": {
                "azdata_cell_guid": "96c52c89-7382-4742-b1d6-a329b1447d69",
                "tags": []
            },
            "outputs": [],
            "execution_count": null
        },
        {
            "cell_type": "markdown",
            "source": [
                "### **5. <span style=\"font-family: inherit; font-size: inherit; font-style: inherit; font-variant-caps: inherit; color: rgb(64, 64, 64); caret-color: rgb(64, 64, 64);\">Generate an alphabetically ordered comma separated ingredient list for each pizza order from the</span> `customer_orders` <span style=\"font-family: inherit; font-size: inherit; font-style: inherit; font-variant-caps: inherit; color: rgb(64, 64, 64); caret-color: rgb(64, 64, 64);\">table and add a</span> `2x` <span style=\"font-family: inherit; font-size: inherit; font-style: inherit; font-variant-caps: inherit; color: rgb(64, 64, 64); caret-color: rgb(64, 64, 64);\">in front of any relevant ingredients</span>**\n",
                "\n",
                "1. - For example: `\"Meat Lovers: 2xBacon, Beef, ... , Salami\"`"
            ],
            "metadata": {
                "azdata_cell_guid": "e7d328a0-a75e-4726-b65f-5d41323602f2"
            }
        },
        {
            "cell_type": "code",
            "source": [
                ""
            ],
            "metadata": {
                "azdata_cell_guid": "c5fb8d5b-4b20-40c2-b8a9-64c1f0d6c1a4"
            },
            "outputs": [],
            "execution_count": null
        },
        {
            "cell_type": "markdown",
            "source": [
                "### **6. <span style=\"font-family: inherit; font-size: inherit; font-style: inherit; font-variant-caps: inherit; color: rgb(64, 64, 64); caret-color: rgb(64, 64, 64);\">What is the total quantity of each ingredient used in all delivered pizzas sorted by most frequent first?</span>**\n",
                "\n",
                "Ans - So I went all in for CTE's in this question. Although I could have avoided 2,3 blocks in here but I choose not to, in order to not compromise readibility.   \n",
                "The query writteen below is quite simple and nothing fancy is used."
            ],
            "metadata": {
                "azdata_cell_guid": "6257ef90-9111-47b1-ab39-80893cc5ce10"
            }
        },
        {
            "cell_type": "code",
            "source": [
                "with sucessful_customer_orders as(\n",
                "select b.order_id,pizza_id,extras,exclusions from orders_delivered a inner join customer_orders b on a.order_id = b.order_id\n",
                "),\n",
                "not_null_customer_orders as(\n",
                "select * from sucessful_customer_orders where extras <> ''\n",
                "),\n",
                "extras_count as(\n",
                "select cast(trim(value) as int) as extras_id,count(cast(trim(value) as int)) as count_extras_id from not_null_customer_orders \n",
                "cross apply string_split(not_null_customer_orders.extras, ',') where extras <> 'null' group by cast(trim(value) as int)\n",
                "),\n",
                "not_null_customer_orders_exclusions as(\n",
                "select * from sucessful_customer_orders where exclusions <> ''\n",
                "),\n",
                "exclusion_count as(\n",
                "select cast(trim(value) as int) as exclusion_id,count(cast(trim(value) as int)) as count_exclusions_id from not_null_customer_orders_exclusions \n",
                "cross apply string_split(not_null_customer_orders_exclusions.exclusions, ',') where exclusions <> 'null' group by cast(trim(value) as int)\n",
                "),\n",
                "new_table as(\n",
                "select topping_id,topping_name,isnull(count_exclusions_id,0) as count_exclusions, isnull(count_extras_id,0) as count_extras from exclusion_count a right join pizza_toppings b on a.exclusion_id = b.topping_id \n",
                "left join extras_count c on b.topping_id = c.extras_id\n",
                ")\n",
                "select topping_id,topping_name,(count_extras-count_exclusions) as frequency from new_table order by count_extras-count_exclusions desc"
            ],
            "metadata": {
                "azdata_cell_guid": "eeacd74f-ad8e-41ef-a46e-38341262965d"
            },
            "outputs": [
                {
                    "output_type": "display_data",
                    "data": {
                        "text/html": "(12 rows affected)"
                    },
                    "metadata": {}
                },
                {
                    "output_type": "display_data",
                    "data": {
                        "text/html": "Total execution time: 00:00:00.032"
                    },
                    "metadata": {}
                },
                {
                    "output_type": "execute_result",
                    "execution_count": 9,
                    "data": {
                        "application/vnd.dataresource+json": {
                            "schema": {
                                "fields": [
                                    {
                                        "name": "topping_id"
                                    },
                                    {
                                        "name": "topping_name"
                                    },
                                    {
                                        "name": "frequency"
                                    }
                                ]
                            },
                            "data": [
                                {
                                    "0": "1",
                                    "1": "Bacon",
                                    "2": "3"
                                },
                                {
                                    "0": "3",
                                    "1": "Beef",
                                    "2": "0"
                                },
                                {
                                    "0": "7",
                                    "1": "Onions",
                                    "2": "0"
                                },
                                {
                                    "0": "8",
                                    "1": "Pepperoni",
                                    "2": "0"
                                },
                                {
                                    "0": "9",
                                    "1": "Peppers",
                                    "2": "0"
                                },
                                {
                                    "0": "10",
                                    "1": "Salami",
                                    "2": "0"
                                },
                                {
                                    "0": "11",
                                    "1": "Tomatoes",
                                    "2": "0"
                                },
                                {
                                    "0": "12",
                                    "1": "Tomato Sauce",
                                    "2": "0"
                                },
                                {
                                    "0": "5",
                                    "1": "Chicken",
                                    "2": "0"
                                },
                                {
                                    "0": "6",
                                    "1": "Mushrooms",
                                    "2": "-1"
                                },
                                {
                                    "0": "2",
                                    "1": "BBQ Sauce",
                                    "2": "-1"
                                },
                                {
                                    "0": "4",
                                    "1": "Cheese",
                                    "2": "-2"
                                }
                            ]
                        },
                        "text/html": "<table><tr><th>topping_id</th><th>topping_name</th><th>frequency</th></tr><tr><td>1</td><td>Bacon</td><td>3</td></tr><tr><td>3</td><td>Beef</td><td>0</td></tr><tr><td>7</td><td>Onions</td><td>0</td></tr><tr><td>8</td><td>Pepperoni</td><td>0</td></tr><tr><td>9</td><td>Peppers</td><td>0</td></tr><tr><td>10</td><td>Salami</td><td>0</td></tr><tr><td>11</td><td>Tomatoes</td><td>0</td></tr><tr><td>12</td><td>Tomato Sauce</td><td>0</td></tr><tr><td>5</td><td>Chicken</td><td>0</td></tr><tr><td>6</td><td>Mushrooms</td><td>-1</td></tr><tr><td>2</td><td>BBQ Sauce</td><td>-1</td></tr><tr><td>4</td><td>Cheese</td><td>-2</td></tr></table>"
                    },
                    "metadata": {}
                }
            ],
            "execution_count": 9
        }
    ]
}