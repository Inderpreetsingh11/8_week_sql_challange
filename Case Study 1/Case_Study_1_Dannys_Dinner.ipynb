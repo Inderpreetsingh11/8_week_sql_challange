{
    "metadata": {
        "kernelspec": {
            "name": "SQL",
            "display_name": "SQL",
            "language": "sql"
        },
        "language_info": {
            "name": "sql",
            "version": ""
        }
    },
    "nbformat_minor": 2,
    "nbformat": 4,
    "cells": [
        {
            "cell_type": "markdown",
            "source": [
                "# **Case Study #1 - Danny's Diner**\n",
                "\n",
                "<span style=\"caret-color: rgb(64, 64, 64); color: rgb(64, 64, 64); font-family: -system-ui, -apple-system, BlinkMacSystemFont, &quot;Segoe UI&quot;, Roboto, Helvetica, Arial, sans-serif, &quot;Apple Color Emoji&quot;, &quot;Segoe UI Emoji&quot;, &quot;Segoe UI Symbol&quot;; font-size: 18px; text-size-adjust: auto; background-color: rgb(255, 255, 255);\">Danny seriously loves Japanese food so in the beginning of 2021, he decides to embark upon a risky venture and opens up a cute little restaurant that sells his 3 favourite foods: sushi, curry and ramen.&nbsp;<br></span> <span style=\"caret-color: rgb(64, 64, 64); color: rgb(64, 64, 64); font-family: -system-ui, -apple-system, BlinkMacSystemFont, &quot;Segoe UI&quot;, Roboto, Helvetica, Arial, sans-serif, &quot;Apple Color Emoji&quot;, &quot;Segoe UI Emoji&quot;, &quot;Segoe UI Symbol&quot;; font-size: 18px; text-size-adjust: auto; background-color: rgb(255, 255, 255);\">Danny wants to use the data to answer a few simple questions about his customers.&nbsp;</span> <span style=\"background-color: rgb(255, 255, 255); color: rgb(64, 64, 64); font-family: -system-ui, -apple-system, BlinkMacSystemFont, &quot;Segoe UI&quot;, Roboto, Helvetica, Arial, sans-serif, &quot;Apple Color Emoji&quot;, &quot;Segoe UI Emoji&quot;, &quot;Segoe UI Symbol&quot;; font-size: 18px; caret-color: rgb(64, 64, 64);\">He plans on using these insights to help him decide whether he should expand the existing customer loyalty program.</span>\n",
                "\n",
                "<span style=\"background-color: rgb(255, 255, 255); color: rgb(64, 64, 64); font-family: -system-ui, -apple-system, BlinkMacSystemFont, &quot;Segoe UI&quot;, Roboto, Helvetica, Arial, sans-serif, &quot;Apple Color Emoji&quot;, &quot;Segoe UI Emoji&quot;, &quot;Segoe UI Symbol&quot;; font-size: 18px; caret-color: rgb(64, 64, 64);\"><br></span>\n",
                "\n",
                "<span style=\"caret-color: rgb(64, 64, 64); color: rgb(64, 64, 64); font-family: -system-ui, -apple-system, BlinkMacSystemFont, &quot;Segoe UI&quot;, Roboto, Helvetica, Arial, sans-serif, &quot;Apple Color Emoji&quot;, &quot;Segoe UI Emoji&quot;, &quot;Segoe UI Symbol&quot;; font-size: 18px; text-size-adjust: auto; background-color: rgb(255, 255, 255);\">Danny has provided you with a sample of his overall customer data due to privacy issues - but he hopes that these examples are enough for you to write fully functioning SQL queries to help him answer his questions!</span><span style=\"background-color: rgb(255, 255, 255); color: rgb(64, 64, 64); font-family: -system-ui, -apple-system, BlinkMacSystemFont, &quot;Segoe UI&quot;, Roboto, Helvetica, Arial, sans-serif, &quot;Apple Color Emoji&quot;, &quot;Segoe UI Emoji&quot;, &quot;Segoe UI Symbol&quot;; font-size: 18px; caret-color: rgb(64, 64, 64);\"><br></span>"
            ],
            "metadata": {
                "azdata_cell_guid": "9d81f712-b897-407f-b661-4f3e40f6ff50"
            }
        },
        {
            "cell_type": "markdown",
            "source": [
                "## **Example Datasets**\n",
                "\n",
                "### **Table 1: sales**"
            ],
            "metadata": {
                "azdata_cell_guid": "edccaedb-2488-45e1-81bc-b27439db74dc"
            }
        },
        {
            "cell_type": "code",
            "source": [
                "CREATE TABLE sales (\n",
                "  \"customer_id\" VARCHAR(1),\n",
                "  \"order_date\" DATE,\n",
                "  \"product_id\" INTEGER\n",
                ");\n",
                "\n",
                "INSERT INTO sales\n",
                "  (\"customer_id\", \"order_date\", \"product_id\")\n",
                "VALUES\n",
                "  ('A', '2021-01-01', '1'),\n",
                "  ('A', '2021-01-01', '2'),\n",
                "  ('A', '2021-01-07', '2'),\n",
                "  ('A', '2021-01-10', '3'),\n",
                "  ('A', '2021-01-11', '3'),\n",
                "  ('A', '2021-01-11', '3'),\n",
                "  ('B', '2021-01-01', '2'),\n",
                "  ('B', '2021-01-02', '2'),\n",
                "  ('B', '2021-01-04', '1'),\n",
                "  ('B', '2021-01-11', '1'),\n",
                "  ('B', '2021-01-16', '3'),\n",
                "  ('B', '2021-02-01', '3'),\n",
                "  ('C', '2021-01-01', '3'),\n",
                "  ('C', '2021-01-01', '3'),\n",
                "  ('C', '2021-01-07', '3');"
            ],
            "metadata": {
                "azdata_cell_guid": "41e4aebb-6177-418b-aa9d-b5bc255e586d",
                "tags": []
            },
            "outputs": [],
            "execution_count": null
        },
        {
            "cell_type": "markdown",
            "source": [
                "### **Table 2: menu**"
            ],
            "metadata": {
                "azdata_cell_guid": "2f2a0b88-17ff-46a5-bd05-c1e22a9f4823"
            }
        },
        {
            "cell_type": "code",
            "source": [
                "CREATE TABLE menu (\n",
                "  \"product_id\" INTEGER,\n",
                "  \"product_name\" VARCHAR(5),\n",
                "  \"price\" INTEGER\n",
                ");\n",
                "\n",
                "INSERT INTO menu\n",
                "  (\"product_id\", \"product_name\", \"price\")\n",
                "VALUES\n",
                "  ('1', 'sushi', '10'),\n",
                "  ('2', 'curry', '15'),\n",
                "  ('3', 'ramen', '12');"
            ],
            "metadata": {
                "azdata_cell_guid": "9b1de427-a5d1-4475-88fa-30f77149d2fb",
                "tags": []
            },
            "outputs": [],
            "execution_count": null
        },
        {
            "cell_type": "markdown",
            "source": [
                "### **Table 3: members**"
            ],
            "metadata": {
                "azdata_cell_guid": "c9801fb1-0154-4114-9531-9b54f4de0373"
            }
        },
        {
            "cell_type": "code",
            "source": [
                "CREATE TABLE members (\n",
                "  \"customer_id\" VARCHAR(1),\n",
                "  \"join_date\" DATE\n",
                ");\n",
                "\n",
                "INSERT INTO members\n",
                "  (\"customer_id\", \"join_date\")\n",
                "VALUES\n",
                "  ('A', '2021-01-07'),\n",
                "  ('B', '2021-01-09');"
            ],
            "metadata": {
                "azdata_cell_guid": "b7e7d549-92dc-4e74-96bf-e2f6b778e336",
                "tags": []
            },
            "outputs": [],
            "execution_count": null
        },
        {
            "cell_type": "markdown",
            "source": [
                "## **Case Study Questions**"
            ],
            "metadata": {
                "azdata_cell_guid": "12ab1c44-8097-480c-a182-66f1761749d8"
            }
        },
        {
            "cell_type": "markdown",
            "source": [
                "### 1. <span style=\"font-family: inherit; font-size: inherit; font-style: inherit; font-variant-caps: inherit; font-weight: inherit; color: rgb(64, 64, 64); caret-color: rgb(64, 64, 64);\">What is the total amount each customer spent at the restaurant?</span>"
            ],
            "metadata": {
                "azdata_cell_guid": "189a9134-de08-4d66-9b34-eb0c04840172"
            }
        },
        {
            "cell_type": "markdown",
            "source": [
                "## **Answer -**\n",
                "\n",
                "For this I'll need to join two tables i.e. sales and menu.  \n",
                "\n",
                "So I constructed a view for it which can be used later."
            ],
            "metadata": {
                "azdata_cell_guid": "2dfc703f-a1b7-4829-b791-c5a37f4e25be"
            }
        },
        {
            "cell_type": "code",
            "source": [
                "CREATE VIEW [sales with menu] as \n",
                "select s.customer_id, s.order_date, s.product_id, m.product_name, m.price from sales s inner join menu m on s.product_id = m.product_id\n",
                ""
            ],
            "metadata": {
                "azdata_cell_guid": "e37c7713-9f1f-4c9d-8a37-a619cf37def9",
                "tags": []
            },
            "outputs": [],
            "execution_count": null
        },
        {
            "cell_type": "markdown",
            "source": [
                "<span style=\"font-size: 14px; font-family: -apple-system, BlinkMacSystemFont, sans-serif;\">As we have to calcuate the total amount spent I have used&nbsp;</span> **sum()** <span style=\"font-size: 14px; font-family: -apple-system, BlinkMacSystemFont, sans-serif;\">an aggregate function on price field. And I'll use </span> **GROUP BY** <span style=\"font-size: 14px; font-family: -apple-system, BlinkMacSystemFont, sans-serif;\">to group them by customer_id</span>"
            ],
            "metadata": {
                "azdata_cell_guid": "abc1ece9-ae5a-49da-bc46-82adbf2b7429"
            }
        },
        {
            "cell_type": "code",
            "source": [
                "select customer_id,sum(price) as amount from [sales with menu] GROUP by customer_id"
            ],
            "metadata": {
                "azdata_cell_guid": "4195ab57-6ea0-4771-b687-a2a8a0906b69",
                "tags": []
            },
            "outputs": [
                {
                    "output_type": "display_data",
                    "data": {
                        "text/html": "(3 rows affected)"
                    },
                    "metadata": {}
                },
                {
                    "output_type": "display_data",
                    "data": {
                        "text/html": "Total execution time: 00:00:00.042"
                    },
                    "metadata": {}
                },
                {
                    "output_type": "execute_result",
                    "execution_count": 4,
                    "data": {
                        "application/vnd.dataresource+json": {
                            "schema": {
                                "fields": [
                                    {
                                        "name": "customer_id"
                                    },
                                    {
                                        "name": "amount"
                                    }
                                ]
                            },
                            "data": [
                                {
                                    "0": "A",
                                    "1": "76"
                                },
                                {
                                    "0": "B",
                                    "1": "74"
                                },
                                {
                                    "0": "C",
                                    "1": "36"
                                }
                            ]
                        },
                        "text/html": "<table><tr><th>customer_id</th><th>amount</th></tr><tr><td>A</td><td>76</td></tr><tr><td>B</td><td>74</td></tr><tr><td>C</td><td>36</td></tr></table>"
                    },
                    "metadata": {}
                }
            ],
            "execution_count": 4
        },
        {
            "cell_type": "markdown",
            "source": [
                "2\\. How many days has each customer visited the restaurant?\n",
                "\n",
                "**ANSWER -** \n",
                "\n",
                "To check how many days each customer visited the restaraunt, we can use **COUNT()** on the order\\_date. But, notice that there are multiple enteries for same dates. So simply using **COUNT()** won't give us the desired output. To solve this we'll use **DISTINCT()** function which will avoid the count of multiple enteries for same dates. At the end we'll use **GROUP BY()** to see check days visited for each customer."
            ],
            "metadata": {
                "azdata_cell_guid": "694b6136-b629-4023-a7b5-d76a37bf2cb3"
            }
        },
        {
            "cell_type": "code",
            "source": [
                "select customer_id,count(distinct(order_date)) as days from [sales with menu] GROUP by customer_id"
            ],
            "metadata": {
                "azdata_cell_guid": "123ba91c-2740-443a-bd4b-1fd58fd129b3",
                "tags": []
            },
            "outputs": [
                {
                    "output_type": "display_data",
                    "data": {
                        "text/html": "(3 rows affected)"
                    },
                    "metadata": {}
                },
                {
                    "output_type": "display_data",
                    "data": {
                        "text/html": "Total execution time: 00:00:00.039"
                    },
                    "metadata": {}
                },
                {
                    "output_type": "execute_result",
                    "execution_count": 5,
                    "data": {
                        "application/vnd.dataresource+json": {
                            "schema": {
                                "fields": [
                                    {
                                        "name": "customer_id"
                                    },
                                    {
                                        "name": "days"
                                    }
                                ]
                            },
                            "data": [
                                {
                                    "0": "A",
                                    "1": "4"
                                },
                                {
                                    "0": "B",
                                    "1": "6"
                                },
                                {
                                    "0": "C",
                                    "1": "2"
                                }
                            ]
                        },
                        "text/html": "<table><tr><th>customer_id</th><th>days</th></tr><tr><td>A</td><td>4</td></tr><tr><td>B</td><td>6</td></tr><tr><td>C</td><td>2</td></tr></table>"
                    },
                    "metadata": {}
                }
            ],
            "execution_count": 5
        },
        {
            "cell_type": "markdown",
            "source": [
                "3. <span style=\"font-family: inherit; font-size: inherit; font-style: inherit; font-variant-caps: inherit; font-weight: inherit; color: rgb(64, 64, 64); caret-color: rgb(64, 64, 64);\">What was the first item from the menu purchased by each customer?</span>\n",
                "\n",
                "**ANSWER -**\n",
                "\n",
                "To check the first item I have used a subquery which **partitions** data based on customer\\_id and orders data by order\\_date in ascending order and alots a rank to each row.   \n",
                "**<mark>NOTE:-</mark>** The difference between **RANK()** and **DENSE\\_RANK()** is that in <mark>RANK()</mark> ties are assigned same value but <mark>rank is skipped</mark>. <mark>DENSE\\_RANK()</mark> aslo assigns same value to ties but <mark>doesn't skip rank.</mark><span style=\"background-color: rgb(255, 255, 0);\"><br></span>This subquery is enclosed in a **WITH** block which reduces the complexity of the query hence makes it more readable. \n",
                "\n",
                "In line 7 dense\\_rank is set to 1 as we only want the first item ordered by each customer."
            ],
            "metadata": {
                "azdata_cell_guid": "89515e86-8b73-4eeb-b35b-e36f6ae6fbde"
            }
        },
        {
            "cell_type": "code",
            "source": [
                "WITH Dense_rank_number AS(\n",
                "    Select *,\n",
                "    DENSE_RANK() OVER(Partition by customer_id order by order_date) as dense_rank\n",
                "    FROM [sales with menu]\n",
                ")\n",
                "select customer_id,product_name,order_date from Dense_rank_number\n",
                "where dense_rank = 1"
            ],
            "metadata": {
                "azdata_cell_guid": "d9d406bd-25fd-4bc3-b358-eac42216b588",
                "tags": []
            },
            "outputs": [
                {
                    "output_type": "display_data",
                    "data": {
                        "text/html": "(5 rows affected)"
                    },
                    "metadata": {}
                },
                {
                    "output_type": "display_data",
                    "data": {
                        "text/html": "Total execution time: 00:00:00.022"
                    },
                    "metadata": {}
                },
                {
                    "output_type": "execute_result",
                    "metadata": {},
                    "execution_count": 4,
                    "data": {
                        "application/vnd.dataresource+json": {
                            "schema": {
                                "fields": [
                                    {
                                        "name": "customer_id"
                                    },
                                    {
                                        "name": "product_name"
                                    },
                                    {
                                        "name": "order_date"
                                    }
                                ]
                            },
                            "data": [
                                {
                                    "0": "A",
                                    "1": "sushi",
                                    "2": "2021-01-01"
                                },
                                {
                                    "0": "A",
                                    "1": "curry",
                                    "2": "2021-01-01"
                                },
                                {
                                    "0": "B",
                                    "1": "curry",
                                    "2": "2021-01-01"
                                },
                                {
                                    "0": "C",
                                    "1": "ramen",
                                    "2": "2021-01-01"
                                },
                                {
                                    "0": "C",
                                    "1": "ramen",
                                    "2": "2021-01-01"
                                }
                            ]
                        },
                        "text/html": [
                            "<table>",
                            "<tr><th>customer_id</th><th>product_name</th><th>order_date</th></tr>",
                            "<tr><td>A</td><td>sushi</td><td>2021-01-01</td></tr>",
                            "<tr><td>A</td><td>curry</td><td>2021-01-01</td></tr>",
                            "<tr><td>B</td><td>curry</td><td>2021-01-01</td></tr>",
                            "<tr><td>C</td><td>ramen</td><td>2021-01-01</td></tr>",
                            "<tr><td>C</td><td>ramen</td><td>2021-01-01</td></tr>",
                            "</table>"
                        ]
                    }
                }
            ],
            "execution_count": 4
        },
        {
            "cell_type": "markdown",
            "source": [
                "4. <span style=\"font-family: inherit; font-size: inherit; font-style: inherit; font-variant-caps: inherit; font-weight: inherit; color: rgb(64, 64, 64); caret-color: rgb(64, 64, 64);\">What is the most purchased item on the menu and how many times was it purchased by all customers?</span>\n",
                "\n",
                "**ANSWER -**   \n",
                "\n",
                "<span style=\"font-family: inherit; font-size: inherit; font-style: inherit; font-variant-caps: inherit; caret-color: rgb(64, 64, 64);\">Thought this to be really easy but it turned out to be a bit tricker than expected. Used MAX(COUNT()) but came to know it's not possible to nest aggregate functions. So ordered the set <b>count()</b>&nbsp;of product_name and selected the <b>TOP 1 </b>value. Used this subquery to find the most purchased item and pass it to the <b>WHERE</b>&nbsp;clause to find the number it was ordered by each customer.&nbsp;</span>"
            ],
            "metadata": {
                "azdata_cell_guid": "e4541bed-fbcf-4cf8-a9f6-a037375c3e47"
            }
        },
        {
            "cell_type": "code",
            "source": [
                "\n",
                "select customer_id,product_name,count(customer_id) as purchased_count from [sales with menu] where product_name = (select  top 1 product_name from [sales with menu] group by product_name order by count(product_name) DESC) group by customer_id,product_name"
            ],
            "metadata": {
                "azdata_cell_guid": "dc256be3-501c-4029-8166-56f13bf328d0",
                "tags": []
            },
            "outputs": [
                {
                    "output_type": "display_data",
                    "data": {
                        "text/html": "(3 rows affected)"
                    },
                    "metadata": {}
                },
                {
                    "output_type": "display_data",
                    "data": {
                        "text/html": "Total execution time: 00:00:00.013"
                    },
                    "metadata": {}
                },
                {
                    "output_type": "execute_result",
                    "metadata": {},
                    "execution_count": 9,
                    "data": {
                        "application/vnd.dataresource+json": {
                            "schema": {
                                "fields": [
                                    {
                                        "name": "customer_id"
                                    },
                                    {
                                        "name": "product_name"
                                    },
                                    {
                                        "name": "purchased_count"
                                    }
                                ]
                            },
                            "data": [
                                {
                                    "0": "A",
                                    "1": "ramen",
                                    "2": "3"
                                },
                                {
                                    "0": "B",
                                    "1": "ramen",
                                    "2": "2"
                                },
                                {
                                    "0": "C",
                                    "1": "ramen",
                                    "2": "3"
                                }
                            ]
                        },
                        "text/html": [
                            "<table>",
                            "<tr><th>customer_id</th><th>product_name</th><th>purchased_count</th></tr>",
                            "<tr><td>A</td><td>ramen</td><td>3</td></tr>",
                            "<tr><td>B</td><td>ramen</td><td>2</td></tr>",
                            "<tr><td>C</td><td>ramen</td><td>3</td></tr>",
                            "</table>"
                        ]
                    }
                }
            ],
            "execution_count": 9
        },
        {
            "cell_type": "markdown",
            "source": [
                "5. <span style=\"font-family: inherit; font-size: inherit; font-style: inherit; font-variant-caps: inherit; font-weight: inherit; color: rgb(64, 64, 64); caret-color: rgb(64, 64, 64);\">Which item was the most popular for each customer?</span>\n",
                "\n",
                "**ANSWER -**\n",
                "\n",
                "The thing that I learnt here was that we can club multiple queries in block as subqueries provided we separate them by comma. Same concept of **DENSE\\_RANK(), PARTITION BY** (explained earlier) was used here."
            ],
            "metadata": {
                "azdata_cell_guid": "efdfcce7-7a9e-4010-9523-1ae7ab174a49"
            }
        },
        {
            "cell_type": "code",
            "source": [
                "WITH question_5 as (\n",
                "select customer_id, product_name, count(product_name) as pcount from [sales with menu] group by product_name, customer_id\n",
                "),\n",
                "Dense_rank_number AS (\n",
                "    SELECT customer_id,product_name,pcount,\n",
                "    DENSE_RANK() OVER (PARTITION BY customer_id order by pcount DESC) as dense_rank\n",
                "    FROM question_5\n",
                "    )\n",
                "SELECT customer_id,product_name,pcount FROM Dense_rank_number\n",
                "WHERE dense_rank = 1\n",
                ""
            ],
            "metadata": {
                "azdata_cell_guid": "a673d918-4261-4dbf-baeb-cb4162059bc3",
                "tags": []
            },
            "outputs": [
                {
                    "output_type": "display_data",
                    "data": {
                        "text/html": "(5 rows affected)"
                    },
                    "metadata": {}
                },
                {
                    "output_type": "display_data",
                    "data": {
                        "text/html": "Total execution time: 00:00:00.027"
                    },
                    "metadata": {}
                },
                {
                    "output_type": "execute_result",
                    "metadata": {},
                    "execution_count": 11,
                    "data": {
                        "application/vnd.dataresource+json": {
                            "schema": {
                                "fields": [
                                    {
                                        "name": "customer_id"
                                    },
                                    {
                                        "name": "product_name"
                                    },
                                    {
                                        "name": "pcount"
                                    }
                                ]
                            },
                            "data": [
                                {
                                    "0": "A",
                                    "1": "ramen",
                                    "2": "3"
                                },
                                {
                                    "0": "B",
                                    "1": "curry",
                                    "2": "2"
                                },
                                {
                                    "0": "B",
                                    "1": "ramen",
                                    "2": "2"
                                },
                                {
                                    "0": "B",
                                    "1": "sushi",
                                    "2": "2"
                                },
                                {
                                    "0": "C",
                                    "1": "ramen",
                                    "2": "3"
                                }
                            ]
                        },
                        "text/html": [
                            "<table>",
                            "<tr><th>customer_id</th><th>product_name</th><th>pcount</th></tr>",
                            "<tr><td>A</td><td>ramen</td><td>3</td></tr>",
                            "<tr><td>B</td><td>curry</td><td>2</td></tr>",
                            "<tr><td>B</td><td>ramen</td><td>2</td></tr>",
                            "<tr><td>B</td><td>sushi</td><td>2</td></tr>",
                            "<tr><td>C</td><td>ramen</td><td>3</td></tr>",
                            "</table>"
                        ]
                    }
                }
            ],
            "execution_count": 11
        },
        {
            "cell_type": "markdown",
            "source": [
                "6. <span style=\"font-size: inherit; font-family: inherit; font-style: inherit; font-variant-caps: inherit; font-weight: inherit; color: rgb(64, 64, 64); caret-color: rgb(64, 64, 64);\">Which item was purchased first by the customer after they became a member?</span>\n",
                "\n",
                "**ANSWER -**\n",
                "\n",
                "<span style=\"font-family: inherit; font-size: inherit; font-style: inherit; font-variant-caps: inherit; caret-color: rgb(64, 64, 64);\">Weird thing happened. First when using the same code it gave me an error than 'cannot convert date and/or time to string'. Searched alot but didn't find anything. Then replaced the WHEN condition with product_name = 'sushi' and ran the same code it worked. Replaced WHEN condition again with join_date and order_date condition and it worked without making any changes. STRANGE!!</span>\n",
                "\n",
                "<span style=\"font-family: inherit; font-size: inherit; font-style: inherit; font-variant-caps: inherit; caret-color: rgb(64, 64, 64);\">Now I'm not sure that should we include the orders that they made on the day when the became a member(as we can't possibly know whether the order was placed before or after signing for the membership as we dont have a time filed) but for the sake of this study I'm going to include that date.&nbsp;</span> \n",
                "\n",
                "<span style=\"font-family: inherit; font-size: inherit; font-style: inherit; font-variant-caps: inherit; caret-color: rgb(64, 64, 64);\">Used <b>CASE STATEMENT</b>&nbsp;here to output 'Y' or 'N' for member column according to the condition.</span>"
            ],
            "metadata": {
                "azdata_cell_guid": "cf5ccf31-8b52-4291-a8ac-3254eba71c9f"
            }
        },
        {
            "cell_type": "code",
            "source": [
                "--this is a view with all three tables joint which will help us further\n",
                "CREATE VIEW [All Tables Joined] as \n",
                "select swm.customer_id,swm.order_date,swm.product_id,swm.product_name,swm.price,m.join_date from [sales with menu] as swm full OUTER JOIN members m on swm.customer_id = m.customer_id\n",
                ""
            ],
            "metadata": {
                "azdata_cell_guid": "09b84d94-0f62-4e8d-8973-326e2ddfa7e1",
                "tags": []
            },
            "outputs": [],
            "execution_count": null
        },
        {
            "cell_type": "code",
            "source": [
                "--this is a view for bonus question\n",
                "CREATE VIEW [insights] AS\n",
                "SELECT customer_id,order_date,product_name,price,\n",
                "CASE \n",
                "WHEN join_date > order_date  or join_date is null  THEN 'N'\n",
                "ELSE 'Y'\n",
                "END AS Member\n",
                "FROM [All Tables Joined]"
            ],
            "metadata": {
                "azdata_cell_guid": "f851889e-f009-4263-b5d1-6ca93da2b278",
                "tags": []
            },
            "outputs": [],
            "execution_count": null
        },
        {
            "cell_type": "code",
            "source": [
                "WITH only_members AS(\n",
                "SELECT * FROM [insights] where Member = 'Y'\n",
                "),\n",
                "first_order_after_membership AS(\n",
                "    select *,\n",
                "    DENSE_RANK() OVER(PARTITION BY customer_id order by order_date) as dense_rank\n",
                "    FROM only_members\n",
                ")\n",
                "select customer_id,product_name \n",
                "FROM first_order_after_membership\n",
                "WHERE dense_rank = 1"
            ],
            "metadata": {
                "azdata_cell_guid": "3c823bec-13d4-43b0-9b75-a73cafc94156",
                "tags": []
            },
            "outputs": [
                {
                    "output_type": "display_data",
                    "data": {
                        "text/html": "(2 rows affected)"
                    },
                    "metadata": {}
                },
                {
                    "output_type": "display_data",
                    "data": {
                        "text/html": "Total execution time: 00:00:00.049"
                    },
                    "metadata": {}
                },
                {
                    "output_type": "execute_result",
                    "metadata": {},
                    "execution_count": 14,
                    "data": {
                        "application/vnd.dataresource+json": {
                            "schema": {
                                "fields": [
                                    {
                                        "name": "customer_id"
                                    },
                                    {
                                        "name": "product_name"
                                    }
                                ]
                            },
                            "data": [
                                {
                                    "0": "A",
                                    "1": "curry"
                                },
                                {
                                    "0": "B",
                                    "1": "sushi"
                                }
                            ]
                        },
                        "text/html": [
                            "<table>",
                            "<tr><th>customer_id</th><th>product_name</th></tr>",
                            "<tr><td>A</td><td>curry</td></tr>",
                            "<tr><td>B</td><td>sushi</td></tr>",
                            "</table>"
                        ]
                    }
                }
            ],
            "execution_count": 14
        },
        {
            "cell_type": "markdown",
            "source": [
                "7. <span style=\"font-family: inherit; font-size: inherit; font-style: inherit; font-variant-caps: inherit; font-weight: inherit; color: rgb(64, 64, 64); caret-color: rgb(64, 64, 64);\">Which item was purchased just before the customer became a member?</span>\n",
                "\n",
                "<span style=\"font-family: inherit; font-size: inherit; font-style: inherit; font-variant-caps: inherit; color: rgb(64, 64, 64); caret-color: rgb(64, 64, 64);\"><b>ANSWER-&nbsp;</b></span> \n",
                "\n",
                "<span style=\"font-family: inherit; font-size: inherit; font-style: inherit; font-variant-caps: inherit; color: rgb(64, 64, 64); caret-color: rgb(64, 64, 64);\"><b><br></b></span>"
            ],
            "metadata": {
                "azdata_cell_guid": "efff2619-8db4-4c14-ae0f-2716fcd9d0db"
            }
        },
        {
            "cell_type": "code",
            "source": [
                "with sales_member_data as (\n",
                "    select s.customer_id,s.order_date,s.product_name,m.join_date from [sales with menu] s inner join members m on s.customer_id = m.customer_id\n",
                "),\n",
                "insights AS(\n",
                "    SELECT customer_id,order_date,product_name,\n",
                "    CASE \n",
                "    WHEN join_date > order_date  or join_date is null  THEN 'N'\n",
                "    ELSE 'Y'\n",
                "    END AS Member\n",
                "    FROM sales_member_data\n",
                "),\n",
                "order_before_becoming_members as(\n",
                "    select * from insights where Member = 'N'\n",
                "),\n",
                "last_order_before_becoming_member as (\n",
                "    select *,\n",
                "    DENSE_RANK() over(partition by customer_id order by order_date DESC) as dense_rank\n",
                "    from order_before_becoming_members\n",
                ")\n",
                "select customer_id,order_date,product_name from last_order_before_becoming_member\n",
                "where dense_rank = 1"
            ],
            "metadata": {
                "azdata_cell_guid": "0de5d044-d4c8-4ee5-bf65-27a8781f94a7",
                "tags": []
            },
            "outputs": [
                {
                    "output_type": "display_data",
                    "data": {
                        "text/html": "(3 rows affected)"
                    },
                    "metadata": {}
                },
                {
                    "output_type": "display_data",
                    "data": {
                        "text/html": "Total execution time: 00:00:00.052"
                    },
                    "metadata": {}
                },
                {
                    "output_type": "execute_result",
                    "metadata": {},
                    "execution_count": 16,
                    "data": {
                        "application/vnd.dataresource+json": {
                            "schema": {
                                "fields": [
                                    {
                                        "name": "customer_id"
                                    },
                                    {
                                        "name": "order_date"
                                    },
                                    {
                                        "name": "product_name"
                                    }
                                ]
                            },
                            "data": [
                                {
                                    "0": "A",
                                    "1": "2021-01-01",
                                    "2": "sushi"
                                },
                                {
                                    "0": "A",
                                    "1": "2021-01-01",
                                    "2": "curry"
                                },
                                {
                                    "0": "B",
                                    "1": "2021-01-04",
                                    "2": "sushi"
                                }
                            ]
                        },
                        "text/html": [
                            "<table>",
                            "<tr><th>customer_id</th><th>order_date</th><th>product_name</th></tr>",
                            "<tr><td>A</td><td>2021-01-01</td><td>sushi</td></tr>",
                            "<tr><td>A</td><td>2021-01-01</td><td>curry</td></tr>",
                            "<tr><td>B</td><td>2021-01-04</td><td>sushi</td></tr>",
                            "</table>"
                        ]
                    }
                }
            ],
            "execution_count": 16
        },
        {
            "cell_type": "markdown",
            "source": [
                "8. <span style=\"font-family: inherit; font-size: inherit; font-style: inherit; font-variant-caps: inherit; font-weight: inherit; color: rgb(64, 64, 64); caret-color: rgb(64, 64, 64);\">What is the total items and amount spent for each member before they became a member?</span>\n",
                "\n",
                "<span style=\"font-family: inherit; font-size: inherit; font-style: inherit; font-variant-caps: inherit; color: rgb(64, 64, 64); caret-color: rgb(64, 64, 64);\"><b>ANSWER -&nbsp;</b></span>"
            ],
            "metadata": {
                "azdata_cell_guid": "07b3aab7-ef07-44e0-8164-5115ebf0acab"
            }
        },
        {
            "cell_type": "code",
            "source": [
                "with sales_member_data as (\n",
                "    select s.customer_id,s.order_date,s.product_name,s.price,m.join_date from [sales with menu] s inner join members m on s.customer_id = m.customer_id\n",
                "),\n",
                "insights AS(\n",
                "    SELECT customer_id,order_date,product_name,price,\n",
                "    CASE \n",
                "    WHEN join_date > order_date  or join_date is null  THEN 'N'\n",
                "    ELSE 'Y'\n",
                "    END AS Member\n",
                "    FROM sales_member_data\n",
                "),\n",
                "order_before_becoming_members as(\n",
                "    select * from insights where Member = 'N'\n",
                ")\n",
                "select customer_id,count(product_name) as total_items,sum(price) as total_amount from order_before_becoming_members group by customer_id"
            ],
            "metadata": {
                "azdata_cell_guid": "4e769a67-4574-4cc8-b6a0-750df29d13ab",
                "tags": []
            },
            "outputs": [
                {
                    "output_type": "display_data",
                    "data": {
                        "text/html": "(2 rows affected)"
                    },
                    "metadata": {}
                },
                {
                    "output_type": "display_data",
                    "data": {
                        "text/html": "Total execution time: 00:00:00.081"
                    },
                    "metadata": {}
                },
                {
                    "output_type": "execute_result",
                    "metadata": {},
                    "execution_count": 17,
                    "data": {
                        "application/vnd.dataresource+json": {
                            "schema": {
                                "fields": [
                                    {
                                        "name": "customer_id"
                                    },
                                    {
                                        "name": "total_items"
                                    },
                                    {
                                        "name": "total_amount"
                                    }
                                ]
                            },
                            "data": [
                                {
                                    "0": "A",
                                    "1": "2",
                                    "2": "25"
                                },
                                {
                                    "0": "B",
                                    "1": "3",
                                    "2": "40"
                                }
                            ]
                        },
                        "text/html": [
                            "<table>",
                            "<tr><th>customer_id</th><th>total_items</th><th>total_amount</th></tr>",
                            "<tr><td>A</td><td>2</td><td>25</td></tr>",
                            "<tr><td>B</td><td>3</td><td>40</td></tr>",
                            "</table>"
                        ]
                    }
                }
            ],
            "execution_count": 17
        },
        {
            "cell_type": "markdown",
            "source": [
                "9. <span style=\"font-family: inherit; font-size: inherit; font-style: inherit; font-variant-caps: inherit; font-weight: inherit; color: rgb(64, 64, 64); caret-color: rgb(64, 64, 64);\">If each $1 spent equates to 10 points and sushi has a 2x points multiplier - how many points would each customer have?</span>\n",
                "\n",
                "<span style=\"font-family: inherit; font-size: inherit; font-style: inherit; font-variant-caps: inherit; color: rgb(64, 64, 64); caret-color: rgb(64, 64, 64);\"><b>ANSWER -&nbsp;</b></span> \n",
                "\n",
                "<span style=\"font-family: inherit; font-size: inherit; font-style: inherit; font-variant-caps: inherit; color: rgb(64, 64, 64); caret-color: rgb(64, 64, 64);\">Generally points are calculated for members only but as it isn't specified in the question, I will be calculating points for each customer</span>"
            ],
            "metadata": {
                "azdata_cell_guid": "1090cddd-46f7-468c-92d3-63cfc763c267"
            }
        },
        {
            "cell_type": "code",
            "source": [
                "with points_table as(\n",
                "    select * ,\n",
                "    CASE\n",
                "    WHEN product_name = 'sushi' THEN 20*price\n",
                "    else 10*price\n",
                "    END AS points\n",
                "    from [sales with menu]\n",
                ")\n",
                "select customer_id,sum(points) as total_points from points_table group by customer_id"
            ],
            "metadata": {
                "azdata_cell_guid": "08512da7-230e-4509-aafe-9f2ec3f4ef35",
                "tags": []
            },
            "outputs": [
                {
                    "output_type": "display_data",
                    "data": {
                        "text/html": "(3 rows affected)"
                    },
                    "metadata": {}
                },
                {
                    "output_type": "display_data",
                    "data": {
                        "text/html": "Total execution time: 00:00:00.044"
                    },
                    "metadata": {}
                },
                {
                    "output_type": "execute_result",
                    "metadata": {},
                    "execution_count": 18,
                    "data": {
                        "application/vnd.dataresource+json": {
                            "schema": {
                                "fields": [
                                    {
                                        "name": "customer_id"
                                    },
                                    {
                                        "name": "total_points"
                                    }
                                ]
                            },
                            "data": [
                                {
                                    "0": "A",
                                    "1": "860"
                                },
                                {
                                    "0": "B",
                                    "1": "940"
                                },
                                {
                                    "0": "C",
                                    "1": "360"
                                }
                            ]
                        },
                        "text/html": [
                            "<table>",
                            "<tr><th>customer_id</th><th>total_points</th></tr>",
                            "<tr><td>A</td><td>860</td></tr>",
                            "<tr><td>B</td><td>940</td></tr>",
                            "<tr><td>C</td><td>360</td></tr>",
                            "</table>"
                        ]
                    }
                }
            ],
            "execution_count": 18
        },
        {
            "cell_type": "markdown",
            "source": [
                "10\\. I<span style=\"font-family: inherit; font-size: inherit; font-style: inherit; font-variant-caps: inherit; font-weight: inherit; color: rgb(64, 64, 64); caret-color: rgb(64, 64, 64);\">n the first week after a customer joins the program (including their join date) they earn 2x points on all items, not just sushi - how many&nbsp; &nbsp;points do customer A and B have at the end of January?</span>\n",
                "\n",
                "<span style=\"font-family: inherit; font-size: inherit; font-style: inherit; font-variant-caps: inherit; color: rgb(64, 64, 64); caret-color: rgb(64, 64, 64);\"><b>ANSWER -&nbsp;</b></span> \n",
                "\n",
                "<span style=\"font-family: inherit; font-size: inherit; font-style: inherit; font-variant-caps: inherit; caret-color: rgb(64, 64, 64);\">Came across <b>DATEADD() </b>function in this question. I wanted to find the first_week end date of the customer after they became a member. You can add values by day,month,year in DATEADD().</span>"
            ],
            "metadata": {
                "azdata_cell_guid": "56544a66-2218-425f-95da-5bc51a2f916c"
            }
        },
        {
            "cell_type": "code",
            "source": [
                "with sales_member_data as (\n",
                "    select s.customer_id,s.order_date,s.product_name,s.price,m.join_date from [sales with menu] s inner join members m on s.customer_id = m.customer_id\n",
                "),\n",
                "insights AS(\n",
                "    SELECT customer_id,order_date,product_name,price,join_date,\n",
                "    CASE \n",
                "    WHEN join_date > order_date  or join_date is null  THEN 'N'\n",
                "    ELSE 'Y'\n",
                "    END AS Member\n",
                "    FROM sales_member_data\n",
                "),\n",
                "order_before_becoming_members as(\n",
                "    select * from insights where Member = 'Y'\n",
                "),\n",
                "points_table as(\n",
                "    select *,\n",
                "    CASE \n",
                "    WHEN order_date between join_date and DATEADD(DAY,7,join_date) then 20*price\n",
                "    WHEN order_date > DATEADD(DAY,7,join_date) and product_name = 'sushi' then 20*price\n",
                "    ELSE 10*price\n",
                "    END AS points\n",
                "    FROM order_before_becoming_members\n",
                ")\n",
                "select customer_id,sum(points) as total_points from points_table where MONTH(order_date) = 01 group by customer_id "
            ],
            "metadata": {
                "azdata_cell_guid": "759b83fd-c532-4b69-9ce3-b2c87bc0ad7d",
                "tags": []
            },
            "outputs": [
                {
                    "output_type": "display_data",
                    "data": {
                        "text/html": "(2 rows affected)"
                    },
                    "metadata": {}
                },
                {
                    "output_type": "display_data",
                    "data": {
                        "text/html": "Total execution time: 00:00:00.050"
                    },
                    "metadata": {}
                },
                {
                    "output_type": "execute_result",
                    "metadata": {},
                    "execution_count": 19,
                    "data": {
                        "application/vnd.dataresource+json": {
                            "schema": {
                                "fields": [
                                    {
                                        "name": "customer_id"
                                    },
                                    {
                                        "name": "total_points"
                                    }
                                ]
                            },
                            "data": [
                                {
                                    "0": "A",
                                    "1": "1020"
                                },
                                {
                                    "0": "B",
                                    "1": "440"
                                }
                            ]
                        },
                        "text/html": [
                            "<table>",
                            "<tr><th>customer_id</th><th>total_points</th></tr>",
                            "<tr><td>A</td><td>1020</td></tr>",
                            "<tr><td>B</td><td>440</td></tr>",
                            "</table>"
                        ]
                    }
                }
            ],
            "execution_count": 19
        },
        {
            "cell_type": "markdown",
            "source": [
                "## <span style=\"color: rgb(34, 34, 34); font-family: -system-ui, -apple-system, BlinkMacSystemFont, &quot;Segoe UI&quot;, Roboto, Helvetica, Arial, sans-serif, &quot;Apple Color Emoji&quot;, &quot;Segoe UI Emoji&quot;, &quot;Segoe UI Symbol&quot;; font-size: 20px; font-weight: bold; text-align: center;\">Join All The Things -&nbsp;</span>"
            ],
            "metadata": {
                "azdata_cell_guid": "337a477e-21d9-422b-ab0e-be9bbab81e6d"
            }
        },
        {
            "cell_type": "code",
            "source": [
                "--Already set up this view in ques. 6\n",
                "select * from [insights]"
            ],
            "metadata": {
                "azdata_cell_guid": "dbe6c841-6549-4c8b-8f07-580aec11de72",
                "tags": []
            },
            "outputs": [
                {
                    "output_type": "display_data",
                    "data": {
                        "text/html": "(15 rows affected)"
                    },
                    "metadata": {}
                },
                {
                    "output_type": "display_data",
                    "data": {
                        "text/html": "Total execution time: 00:00:00.033"
                    },
                    "metadata": {}
                },
                {
                    "output_type": "execute_result",
                    "metadata": {},
                    "execution_count": 20,
                    "data": {
                        "application/vnd.dataresource+json": {
                            "schema": {
                                "fields": [
                                    {
                                        "name": "customer_id"
                                    },
                                    {
                                        "name": "order_date"
                                    },
                                    {
                                        "name": "product_name"
                                    },
                                    {
                                        "name": "price"
                                    },
                                    {
                                        "name": "Member"
                                    }
                                ]
                            },
                            "data": [
                                {
                                    "0": "A",
                                    "1": "2021-01-01",
                                    "2": "sushi",
                                    "3": "10",
                                    "4": "N"
                                },
                                {
                                    "0": "A",
                                    "1": "2021-01-01",
                                    "2": "curry",
                                    "3": "15",
                                    "4": "N"
                                },
                                {
                                    "0": "A",
                                    "1": "2021-01-07",
                                    "2": "curry",
                                    "3": "15",
                                    "4": "Y"
                                },
                                {
                                    "0": "A",
                                    "1": "2021-01-10",
                                    "2": "ramen",
                                    "3": "12",
                                    "4": "Y"
                                },
                                {
                                    "0": "A",
                                    "1": "2021-01-11",
                                    "2": "ramen",
                                    "3": "12",
                                    "4": "Y"
                                },
                                {
                                    "0": "A",
                                    "1": "2021-01-11",
                                    "2": "ramen",
                                    "3": "12",
                                    "4": "Y"
                                },
                                {
                                    "0": "B",
                                    "1": "2021-01-01",
                                    "2": "curry",
                                    "3": "15",
                                    "4": "N"
                                },
                                {
                                    "0": "B",
                                    "1": "2021-01-02",
                                    "2": "curry",
                                    "3": "15",
                                    "4": "N"
                                },
                                {
                                    "0": "B",
                                    "1": "2021-01-04",
                                    "2": "sushi",
                                    "3": "10",
                                    "4": "N"
                                },
                                {
                                    "0": "B",
                                    "1": "2021-01-11",
                                    "2": "sushi",
                                    "3": "10",
                                    "4": "Y"
                                },
                                {
                                    "0": "B",
                                    "1": "2021-01-16",
                                    "2": "ramen",
                                    "3": "12",
                                    "4": "Y"
                                },
                                {
                                    "0": "B",
                                    "1": "2021-02-01",
                                    "2": "ramen",
                                    "3": "12",
                                    "4": "Y"
                                },
                                {
                                    "0": "C",
                                    "1": "2021-01-01",
                                    "2": "ramen",
                                    "3": "12",
                                    "4": "N"
                                },
                                {
                                    "0": "C",
                                    "1": "2021-01-01",
                                    "2": "ramen",
                                    "3": "12",
                                    "4": "N"
                                },
                                {
                                    "0": "C",
                                    "1": "2021-01-07",
                                    "2": "ramen",
                                    "3": "12",
                                    "4": "N"
                                }
                            ]
                        },
                        "text/html": [
                            "<table>",
                            "<tr><th>customer_id</th><th>order_date</th><th>product_name</th><th>price</th><th>Member</th></tr>",
                            "<tr><td>A</td><td>2021-01-01</td><td>sushi</td><td>10</td><td>N</td></tr>",
                            "<tr><td>A</td><td>2021-01-01</td><td>curry</td><td>15</td><td>N</td></tr>",
                            "<tr><td>A</td><td>2021-01-07</td><td>curry</td><td>15</td><td>Y</td></tr>",
                            "<tr><td>A</td><td>2021-01-10</td><td>ramen</td><td>12</td><td>Y</td></tr>",
                            "<tr><td>A</td><td>2021-01-11</td><td>ramen</td><td>12</td><td>Y</td></tr>",
                            "<tr><td>A</td><td>2021-01-11</td><td>ramen</td><td>12</td><td>Y</td></tr>",
                            "<tr><td>B</td><td>2021-01-01</td><td>curry</td><td>15</td><td>N</td></tr>",
                            "<tr><td>B</td><td>2021-01-02</td><td>curry</td><td>15</td><td>N</td></tr>",
                            "<tr><td>B</td><td>2021-01-04</td><td>sushi</td><td>10</td><td>N</td></tr>",
                            "<tr><td>B</td><td>2021-01-11</td><td>sushi</td><td>10</td><td>Y</td></tr>",
                            "<tr><td>B</td><td>2021-01-16</td><td>ramen</td><td>12</td><td>Y</td></tr>",
                            "<tr><td>B</td><td>2021-02-01</td><td>ramen</td><td>12</td><td>Y</td></tr>",
                            "<tr><td>C</td><td>2021-01-01</td><td>ramen</td><td>12</td><td>N</td></tr>",
                            "<tr><td>C</td><td>2021-01-01</td><td>ramen</td><td>12</td><td>N</td></tr>",
                            "<tr><td>C</td><td>2021-01-07</td><td>ramen</td><td>12</td><td>N</td></tr>",
                            "</table>"
                        ]
                    }
                }
            ],
            "execution_count": 20
        },
        {
            "cell_type": "markdown",
            "source": [
                "## <span style=\"color: rgb(34, 34, 34); font-family: -system-ui, -apple-system, BlinkMacSystemFont, &quot;Segoe UI&quot;, Roboto, Helvetica, Arial, sans-serif, &quot;Apple Color Emoji&quot;, &quot;Segoe UI Emoji&quot;, &quot;Segoe UI Symbol&quot;; font-size: 20px; font-weight: bold; text-align: center;\">Rank All The Things -&nbsp;</span>"
            ],
            "metadata": {
                "azdata_cell_guid": "b4fe94fb-05b2-4372-be2d-14371f335aff"
            }
        },
        {
            "cell_type": "code",
            "source": [
                "WITH rank_all AS(\n",
                "    select *,\n",
                "    DENSE_RANK() OVER(PARTITION BY customer_id order by order_date)  as rank\n",
                "    FROM [insights]\n",
                "    where Member = 'Y'\n",
                ")\n",
                "select * from rank_all"
            ],
            "metadata": {
                "azdata_cell_guid": "bafdb574-2e60-4011-a295-b4f8c5aec155",
                "tags": []
            },
            "outputs": [
                {
                    "output_type": "display_data",
                    "data": {
                        "text/html": "(7 rows affected)"
                    },
                    "metadata": {}
                },
                {
                    "output_type": "display_data",
                    "data": {
                        "text/html": "Total execution time: 00:00:00.026"
                    },
                    "metadata": {}
                },
                {
                    "output_type": "execute_result",
                    "metadata": {},
                    "execution_count": 33,
                    "data": {
                        "application/vnd.dataresource+json": {
                            "schema": {
                                "fields": [
                                    {
                                        "name": "customer_id"
                                    },
                                    {
                                        "name": "order_date"
                                    },
                                    {
                                        "name": "product_name"
                                    },
                                    {
                                        "name": "price"
                                    },
                                    {
                                        "name": "Member"
                                    },
                                    {
                                        "name": "rank"
                                    }
                                ]
                            },
                            "data": [
                                {
                                    "0": "A",
                                    "1": "2021-01-07",
                                    "2": "curry",
                                    "3": "15",
                                    "4": "Y",
                                    "5": "1"
                                },
                                {
                                    "0": "A",
                                    "1": "2021-01-10",
                                    "2": "ramen",
                                    "3": "12",
                                    "4": "Y",
                                    "5": "2"
                                },
                                {
                                    "0": "A",
                                    "1": "2021-01-11",
                                    "2": "ramen",
                                    "3": "12",
                                    "4": "Y",
                                    "5": "3"
                                },
                                {
                                    "0": "A",
                                    "1": "2021-01-11",
                                    "2": "ramen",
                                    "3": "12",
                                    "4": "Y",
                                    "5": "3"
                                },
                                {
                                    "0": "B",
                                    "1": "2021-01-11",
                                    "2": "sushi",
                                    "3": "10",
                                    "4": "Y",
                                    "5": "1"
                                },
                                {
                                    "0": "B",
                                    "1": "2021-01-16",
                                    "2": "ramen",
                                    "3": "12",
                                    "4": "Y",
                                    "5": "2"
                                },
                                {
                                    "0": "B",
                                    "1": "2021-02-01",
                                    "2": "ramen",
                                    "3": "12",
                                    "4": "Y",
                                    "5": "3"
                                }
                            ]
                        },
                        "text/html": [
                            "<table>",
                            "<tr><th>customer_id</th><th>order_date</th><th>product_name</th><th>price</th><th>Member</th><th>rank</th></tr>",
                            "<tr><td>A</td><td>2021-01-07</td><td>curry</td><td>15</td><td>Y</td><td>1</td></tr>",
                            "<tr><td>A</td><td>2021-01-10</td><td>ramen</td><td>12</td><td>Y</td><td>2</td></tr>",
                            "<tr><td>A</td><td>2021-01-11</td><td>ramen</td><td>12</td><td>Y</td><td>3</td></tr>",
                            "<tr><td>A</td><td>2021-01-11</td><td>ramen</td><td>12</td><td>Y</td><td>3</td></tr>",
                            "<tr><td>B</td><td>2021-01-11</td><td>sushi</td><td>10</td><td>Y</td><td>1</td></tr>",
                            "<tr><td>B</td><td>2021-01-16</td><td>ramen</td><td>12</td><td>Y</td><td>2</td></tr>",
                            "<tr><td>B</td><td>2021-02-01</td><td>ramen</td><td>12</td><td>Y</td><td>3</td></tr>",
                            "</table>"
                        ]
                    }
                }
            ],
            "execution_count": 33
        }
    ]
}